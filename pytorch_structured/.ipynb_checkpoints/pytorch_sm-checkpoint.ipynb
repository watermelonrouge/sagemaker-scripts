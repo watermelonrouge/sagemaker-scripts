{
 "cells": [
  {
   "cell_type": "markdown",
   "metadata": {},
   "source": [
    "#### **SAGEMAKER - BYOS CONFIGURATION FOR PYTORCH**"
   ]
  },
  {
   "cell_type": "code",
   "execution_count": 1,
   "metadata": {},
   "outputs": [],
   "source": [
    "import boto3\n",
    "import sagemaker\n",
    "import pandas as pd\n",
    "import numpy as np\n",
    "import botocore\n",
    "import torch\n",
    "import os\n",
    "import re\n",
    "import json\n",
    "import time\n",
    "import seaborn as sns\n",
    "\n",
    "from io import StringIO\n",
    "from smart_open import smart_open\n",
    "\n",
    "from IPython.core.display import display, HTML\n",
    "\n",
    "config = botocore.config.Config()\n",
    "sm = boto3.client(service_name = 'sagemaker', config = config)\n",
    "sm_runtime = boto3.client('sagemaker-runtime', config = config)\n",
    "sess = sagemaker.Session(sagemaker_client = sm, sagemaker_runtime_client = sm_runtime)\n",
    "\n",
    "with open('/'.join(os.getcwd().split('/')[:-1])+'/params.json','r') as params:\n",
    "    params = json.load(params)\n",
    "\n",
    "bucket = params['sm_role']\n",
    "default_bucket = sess.default_bucket()\n",
    "role = params['sm_role'] #sagemaker.get_execution_role()\n",
    "region = sess.boto_region_name"
   ]
  },
  {
   "cell_type": "code",
   "execution_count": 2,
   "metadata": {},
   "outputs": [],
   "source": [
    "import matplotlib.pyplot as plt\n",
    "%matplotlib inline\n",
    "%config InlineBackend.figure_format='retina'"
   ]
  },
  {
   "cell_type": "markdown",
   "metadata": {},
   "source": [
    "####\n",
    "#### **CONFIGURE DATASET**"
   ]
  },
  {
   "cell_type": "code",
   "execution_count": 3,
   "metadata": {},
   "outputs": [],
   "source": [
    "processed_csv_train = 's3://{}/data/processed/csv/train'.format(bucket)\n",
    "processed_csv_validation = 's3://{}/data/processed/csv/validation'.format(bucket)\n",
    "processed_csv_evaluation = 's3://{}/data/processed/csv/evaluation'.format(bucket)"
   ]
  },
  {
   "cell_type": "code",
   "execution_count": 8,
   "metadata": {},
   "outputs": [
    {
     "name": "stdout",
     "output_type": "stream",
     "text": [
      "upload: data/processed/csv/train/train.csv to s3://hwm-nba/data/processed/csv/train/train.csv\n",
      "upload: data/processed/csv/validation/validation.csv to s3://hwm-nba/data/processed/csv/validation/validation.csv\n",
      "upload: data/processed/csv/evaluation/evaluation.csv to s3://hwm-nba/data/processed/csv/evaluation/evaluation.csv\n"
     ]
    }
   ],
   "source": [
    "!aws s3 cp --recursive ./data/processed/csv/train $processed_csv_train\n",
    "!aws s3 cp --recursive ./data/processed/csv/validation $processed_csv_validation\n",
    "!aws s3 cp --recursive ./data/processed/csv/evaluation $processed_csv_evaluation"
   ]
  },
  {
   "cell_type": "code",
   "execution_count": 10,
   "metadata": {},
   "outputs": [
    {
     "name": "stdout",
     "output_type": "stream",
     "text": [
      "2022-10-26 22:59:43     530310 data/processed/csv/train/train.csv\n",
      "2022-10-26 22:59:46      59073 data/processed/csv/validation/validation.csv\n",
      "2022-10-26 22:59:48      59073 data/processed/csv/evaluation/evaluation.csv\n"
     ]
    }
   ],
   "source": [
    "!aws s3 ls --recursive $processed_csv_train\n",
    "!aws s3 ls --recursive $processed_csv_validation\n",
    "!aws s3 ls --recursive $processed_csv_evaluation"
   ]
  },
  {
   "cell_type": "markdown",
   "metadata": {},
   "source": [
    "####\n",
    "#### **OPTIONALLY ETL THE DATA TO THE TFRECORDS FORMAT**"
   ]
  },
  {
   "cell_type": "code",
   "execution_count": 4,
   "metadata": {},
   "outputs": [],
   "source": [
    "train = pd.read_csv(smart_open(processed_csv_train+'/train.csv'))\n",
    "validation = pd.read_csv(smart_open(processed_csv_validation+'/validation.csv'))\n",
    "evaluation = pd.read_csv(smart_open(processed_csv_evaluation+'/evaluation.csv'))"
   ]
  },
  {
   "cell_type": "code",
   "execution_count": 12,
   "metadata": {},
   "outputs": [],
   "source": [
    "def csv_to_tfrecords(data,path):\n",
    "    with tf.io.TFRecordWriter(path) as file_writer:\n",
    "        for i in range(len(data)): #4):\n",
    "            x = data.iloc[i,:-1].to_numpy().tobytes() #[np.random.random(),np.random.random()]\n",
    "            y = data.iloc[i, -1].astype('int64') #.to_numpy()  #np.random.random()\n",
    "            \n",
    "            mystring = tf.train.Example(features=tf.train.Features(feature={\n",
    "                'x': tf.train.Feature(bytes_list=tf.train.BytesList(value=[x])),\n",
    "                'y': tf.train.Feature(int64_list=tf.train.Int64List(value=[y])),\n",
    "            })).SerializeToString()\n",
    "            file_writer.write(mystring)"
   ]
  },
  {
   "cell_type": "code",
   "execution_count": 22,
   "metadata": {},
   "outputs": [],
   "source": [
    "os.makedirs('./data/processed/tfrecords/train/', exist_ok = True)\n",
    "os.makedirs('./data/processed/tfrecords/validation/', exist_ok = True)\n",
    "os.makedirs('./data/processed/tfrecords/evaluation/', exist_ok = True)"
   ]
  },
  {
   "cell_type": "code",
   "execution_count": 23,
   "metadata": {},
   "outputs": [],
   "source": [
    "csv_to_tfrecords(train,'./data/processed/tfrecords/train/train.tfrecords')\n",
    "csv_to_tfrecords(validation,'./data/processed/tfrecords/validation/validation.tfrecords')\n",
    "csv_to_tfrecords(evaluation,'./data/processed/tfrecords/evaluation/evaluation.tfrecords')"
   ]
  },
  {
   "cell_type": "code",
   "execution_count": 24,
   "metadata": {},
   "outputs": [],
   "source": [
    "processed_tfrecords_train = 's3://{}/data/processed/tfrecords/train'.format(bucket)\n",
    "processed_tfrecords_validation = 's3://{}/data/processed/tfrecords/validation'.format(bucket)\n",
    "processed_tfrecords_evaluation = 's3://{}/data/processed/tfrecords/evaluation'.format(bucket)"
   ]
  },
  {
   "cell_type": "code",
   "execution_count": 25,
   "metadata": {},
   "outputs": [
    {
     "name": "stdout",
     "output_type": "stream",
     "text": [
      "upload: data/processed/tfrecords/train/train.tfrecords to s3://hwm-nba/data/processed/tfrecords/train/train.tfrecords\n",
      "upload: data/processed/tfrecords/validation/validation.tfrecords to s3://hwm-nba/data/processed/tfrecords/validation/validation.tfrecords\n",
      "upload: data/processed/tfrecords/evaluation/evaluation.tfrecords to s3://hwm-nba/data/processed/tfrecords/evaluation/evaluation.tfrecords\n"
     ]
    }
   ],
   "source": [
    "!aws s3 cp --recursive ./data/processed/tfrecords/train $processed_tfrecords_train\n",
    "!aws s3 cp --recursive ./data/processed/tfrecords/validation $processed_tfrecords_validation\n",
    "!aws s3 cp --recursive ./data/processed/tfrecords/evaluation $processed_tfrecords_evaluation"
   ]
  },
  {
   "cell_type": "code",
   "execution_count": 5,
   "metadata": {},
   "outputs": [],
   "source": [
    "s3_input_train_data = sagemaker.inputs.TrainingInput(\n",
    "    s3_data = processed_csv_train\n",
    ")\n",
    "\n",
    "s3_input_validation_data = sagemaker.inputs.TrainingInput(\n",
    "    s3_data = processed_csv_validation\n",
    ")\n",
    "\n",
    "s3_input_evaluation_data = sagemaker.inputs.TrainingInput(\n",
    "    s3_data = processed_csv_evaluation\n",
    ")"
   ]
  },
  {
   "cell_type": "code",
   "execution_count": 6,
   "metadata": {},
   "outputs": [],
   "source": [
    "data_channels = {\n",
    "    'train': s3_input_train_data,\n",
    "    'validation': s3_input_validation_data,\n",
    "    'eval': s3_input_evaluation_data\n",
    "}"
   ]
  },
  {
   "cell_type": "markdown",
   "metadata": {},
   "source": [
    "####\n",
    "#### **HYPERPARAMETERS**"
   ]
  },
  {
   "cell_type": "code",
   "execution_count": 7,
   "metadata": {},
   "outputs": [],
   "source": [
    "seed = 42\n",
    "epochs = 5\n",
    "batch_size = 500\n",
    "#learning_rate = 2e-5\n",
    "train_batch_size = 500\n",
    "#train_steps_per_epoch = 180\n",
    "validation_batch_size = 500\n",
    "#validation_steps_per_epoch = 20\n",
    "run_validation = 1\n",
    "\n",
    "train_instance_count = 1\n",
    "train_instance_type = 'ml.m4.xlarge' #'ml.c5.9xlarge' #ml.t3.medium' #'ml.c5.9xlarge'\n",
    "train_volume_size = 256\n",
    "input_mode = 'File'"
   ]
  },
  {
   "cell_type": "code",
   "execution_count": 8,
   "metadata": {},
   "outputs": [],
   "source": [
    "hyperparameters = {\n",
    "    'epochs': epochs,\n",
    "    'batch-size': batch_size,\n",
    "    'train-batch-size': train_batch_size,\n",
    "    'validation-batch-size': validation_batch_size,\n",
    "    'seed': seed,\n",
    "    'run-validation': run_validation\n",
    "}"
   ]
  },
  {
   "cell_type": "code",
   "execution_count": 501,
   "metadata": {},
   "outputs": [],
   "source": [
    "# metric definitions for cloudwatch\n",
    "metric_definitions = [\n",
    "     {'Name': 'validation:loss', 'Regex': 'validation loss: ([0-9.]+)'},\n",
    "     {'Name': 'validation:accuracy', 'Regex': 'validation accuracy: ([0-9.]+)'}\n",
    "]"
   ]
  },
  {
   "cell_type": "markdown",
   "metadata": {},
   "source": [
    "####\n",
    "#### **DEBUGGER RULES**"
   ]
  },
  {
   "cell_type": "code",
   "execution_count": 502,
   "metadata": {},
   "outputs": [],
   "source": [
    "from sagemaker.debugger import Rule, ProfilerRule, rule_configs\n",
    "from sagemaker.debugger import DebuggerHookConfig\n",
    "from sagemaker.debugger import ProfilerConfig, FrameworkProfile"
   ]
  },
  {
   "cell_type": "code",
   "execution_count": 503,
   "metadata": {},
   "outputs": [],
   "source": [
    "# provides options to customize how debugging information is emitted and saved\n",
    "debugger_hook_config = DebuggerHookConfig(\n",
    "    s3_output_path='s3://{}'.format(bucket),\n",
    ")"
   ]
  },
  {
   "cell_type": "code",
   "execution_count": 504,
   "metadata": {},
   "outputs": [],
   "source": [
    "# ProfilerConfig sets the configuration for collecting system and framework metrics of SageMaker Training Jobs.\n",
    "# Parameter `system_monitor_interval_millis` sets the time interval to collect system metrics (in milliseconds).\n",
    "# Parameter `framework_profile_params` is the object for framework metrics profiling. Here you will set its local path,\n",
    "# the step at which to start profiling, `start_step`, and the number of steps to profile, `num_steps`.\n",
    "\n",
    "profiler_config = ProfilerConfig(\n",
    "    system_monitor_interval_millis=500,\n",
    "    framework_profile_params=FrameworkProfile(local_path='/opt/ml/output/profiler/', start_step=5, num_steps=10)\n",
    ")"
   ]
  },
  {
   "cell_type": "code",
   "execution_count": 505,
   "metadata": {},
   "outputs": [],
   "source": [
    "# For monitoring and profiling the built-in rules you can use the `ProfilerReport`.\n",
    "# It creates a profiling report and updates when the individual rules are triggered.\n",
    "# If you trigger this `ProfilerReport` rule without any customized parameter as in the cell below,\n",
    "# then the `ProfilerReport` rule triggers all of the built-in rules for monitoring and profiling with their default parameter values.\n",
    "# The profiling report can be downloaded while the Training Job is running or after the job has finished.\n",
    "\n",
    "rules = [ProfilerRule.sagemaker(rule_configs.ProfilerReport())]"
   ]
  },
  {
   "cell_type": "markdown",
   "metadata": {},
   "source": [
    "####\n",
    "#### **TRAIN MODEL USING train.py SCRIPT**"
   ]
  },
  {
   "cell_type": "code",
   "execution_count": 506,
   "metadata": {},
   "outputs": [],
   "source": [
    "use_spot_instances = True\n",
    "max_run = 3600\n",
    "max_wait = 7200 if use_spot_instances else None\n",
    "\n",
    "from sagemaker.pytorch import PyTorch\n",
    "\n",
    "estimator = PyTorch(\n",
    "    script_mode=True,\n",
    "    base_job_name = 'nba-test',\n",
    "    source_dir = 'code',\n",
    "    entry_point='train.py',\n",
    "    role=role,\n",
    "    instance_count=train_instance_count,\n",
    "    instance_type=train_instance_type,\n",
    "    volume_size=train_volume_size,\n",
    "    py_version='py36',\n",
    "    framework_version='1.6.0',\n",
    "    hyperparameters=hyperparameters,\n",
    "    metric_definitions=metric_definitions,\n",
    "    input_mode=input_mode,\n",
    "    debugger_hook_config=debugger_hook_config,\n",
    "    use_spot_instances = use_spot_instances,\n",
    "    profiler_config=profiler_config,\n",
    "    rules=rules,\n",
    "    max_run=max_run,\n",
    "    max_wait=max_wait\n",
    ")"
   ]
  },
  {
   "cell_type": "code",
   "execution_count": 507,
   "metadata": {},
   "outputs": [],
   "source": [
    "estimator.fit(\n",
    "    inputs = data_channels,\n",
    "    wait = False\n",
    ")"
   ]
  },
  {
   "cell_type": "code",
   "execution_count": 508,
   "metadata": {},
   "outputs": [
    {
     "name": "stdout",
     "output_type": "stream",
     "text": [
      "Training Job name: nba-test-2022-10-29-21-49-07-189\n"
     ]
    }
   ],
   "source": [
    "training_job_name = estimator.latest_training_job.name\n",
    "print('Training Job name: {}'.format(training_job_name))"
   ]
  },
  {
   "cell_type": "code",
   "execution_count": 509,
   "metadata": {},
   "outputs": [
    {
     "name": "stdout",
     "output_type": "stream",
     "text": [
      "Training Job status: InProgress\n",
      "\n",
      "SageMaker Training Job: https://console.aws.amazon.com/sagemaker/home?region=us-west-2#/jobs/nba-test-2022-10-29-21-49-07-189\n",
      "\n",
      "CloudWatch Logs: https://console.aws.amazon.com/cloudwatch/home?region=us-west-2#logStream:group=/aws/sagemaker/TrainingJobs;prefix=nba-test-2022-10-29-21-49-07-189;streamFilter=typeLogStreamPrefix\n",
      "\n",
      "S3 Output Data: https://s3.console.aws.amazon.com/s3/buckets/hwm-nba/nba-test-2022-10-29-21-49-07-189/?region=us-west-2&tab=overview\n",
      "\n"
     ]
    }
   ],
   "source": [
    "training_job_status_primary = estimator.latest_training_job.describe()['TrainingJobStatus']\n",
    "print('Training Job status: {}'.format(training_job_status_primary)+'\\n')\n",
    "print('SageMaker Training Job: https://console.aws.amazon.com/sagemaker/home?region={}#/jobs/{}'.format(region, training_job_name)+'\\n')\n",
    "print('CloudWatch Logs: https://console.aws.amazon.com/cloudwatch/home?region={}#logStream:group=/aws/sagemaker/TrainingJobs;prefix={};streamFilter=typeLogStreamPrefix'.format(region, training_job_name)+'\\n')\n",
    "print('S3 Output Data: https://s3.console.aws.amazon.com/s3/buckets/{}/{}/?region={}&tab=overview'.format(bucket, training_job_name, region)+'\\n')\n"
   ]
  },
  {
   "cell_type": "code",
   "execution_count": 510,
   "metadata": {},
   "outputs": [
    {
     "name": "stdout",
     "output_type": "stream",
     "text": [
      "\n",
      "2022-10-29 21:49:08 Starting - Starting the training job....\n",
      "2022-10-29 21:49:33 Starting - Preparing the instances for training..............\n",
      "2022-10-29 21:50:46 Downloading - Downloading input data.....\n",
      "2022-10-29 21:51:17 Training - Downloading the training image............\n",
      "2022-10-29 21:52:27 Training - Training image download completed. Training in progress.......\n",
      "2022-10-29 21:53:03 Uploading - Uploading generated training model..\n",
      "2022-10-29 21:53:18 Completed - Training job completed\n",
      "CPU times: user 364 ms, sys: 182 ms, total: 546 ms\n",
      "Wall time: 4min 10s\n"
     ]
    }
   ],
   "source": [
    "%%time\n",
    "# this cell takes a while to run\n",
    "estimator.latest_training_job.wait(logs=False)"
   ]
  },
  {
   "cell_type": "code",
   "execution_count": 511,
   "metadata": {
    "tags": []
   },
   "outputs": [
    {
     "data": {
      "text/html": [
       "<div>\n",
       "<style scoped>\n",
       "    .dataframe tbody tr th:only-of-type {\n",
       "        vertical-align: middle;\n",
       "    }\n",
       "\n",
       "    .dataframe tbody tr th {\n",
       "        vertical-align: top;\n",
       "    }\n",
       "\n",
       "    .dataframe thead th {\n",
       "        text-align: right;\n",
       "    }\n",
       "</style>\n",
       "<table border=\"1\" class=\"dataframe\">\n",
       "  <thead>\n",
       "    <tr style=\"text-align: right;\">\n",
       "      <th></th>\n",
       "      <th>timestamp</th>\n",
       "      <th>metric_name</th>\n",
       "      <th>value</th>\n",
       "    </tr>\n",
       "  </thead>\n",
       "  <tbody>\n",
       "    <tr>\n",
       "      <th>0</th>\n",
       "      <td>0.0</td>\n",
       "      <td>validation:loss</td>\n",
       "      <td>0.3754</td>\n",
       "    </tr>\n",
       "    <tr>\n",
       "      <th>1</th>\n",
       "      <td>0.0</td>\n",
       "      <td>validation:accuracy</td>\n",
       "      <td>0.9242</td>\n",
       "    </tr>\n",
       "  </tbody>\n",
       "</table>\n",
       "</div>"
      ],
      "text/plain": [
       "   timestamp          metric_name   value\n",
       "0        0.0      validation:loss  0.3754\n",
       "1        0.0  validation:accuracy  0.9242"
      ]
     },
     "execution_count": 511,
     "metadata": {},
     "output_type": "execute_result"
    }
   ],
   "source": [
    "df_metrics = estimator.training_job_analytics.dataframe()\n",
    "df_metrics"
   ]
  },
  {
   "cell_type": "code",
   "execution_count": 512,
   "metadata": {
    "tags": []
   },
   "outputs": [
    {
     "data": {
      "text/plain": [
       "<AxesSubplot:xlabel='timestamp'>"
      ]
     },
     "execution_count": 512,
     "metadata": {},
     "output_type": "execute_result"
    },
    {
     "data": {
      "image/png": "[encoded data removed]",
      "text/plain": [
       "<Figure size 432x288 with 1 Axes>"
      ]
     },
     "metadata": {
      "image/png": {
       "height": 261,
       "width": 384
      },
      "needs_background": "light"
     },
     "output_type": "display_data"
    }
   ],
   "source": [
    "df_metrics.query(\"metric_name=='validation:loss'\").plot(x='timestamp', y='value')"
   ]
  },
  {
   "cell_type": "code",
   "execution_count": 513,
   "metadata": {},
   "outputs": [
    {
     "name": "stdout",
     "output_type": "stream",
     "text": [
      "Debugger Output: https://s3.console.aws.amazon.com/s3/buckets/hwm-nba?prefix=nba-test-2022-10-29-21-49-07-189/\n"
     ]
    }
   ],
   "source": [
    "print('Debugger Output: https://s3.console.aws.amazon.com/s3/buckets/{}?prefix={}/'.format(bucket, training_job_name))"
   ]
  },
  {
   "cell_type": "markdown",
   "metadata": {
    "tags": []
   },
   "source": [
    "####\n",
    "#### **VIEW DEBUGGER RESULTS**"
   ]
  },
  {
   "cell_type": "code",
   "execution_count": 514,
   "metadata": {},
   "outputs": [],
   "source": [
    "s3 = boto3.Session().resource('s3')\n",
    "my_bucket = s3.Bucket(sess.default_bucket())\n",
    "\n",
    "for my_bucket_object in my_bucket.objects.filter(Prefix=training_job_name): #.all():\n",
    "    if re.search('rule-output.*profiler-output',my_bucket_object.key):\n",
    "        mypath = my_bucket_object.key\n",
    "        mypath = mypath.split('profiler-output/')[0]+'profiler-output/'\n",
    "        break\n",
    "    \n",
    "profiler_report_s3_uri = ('s3://{}/'+mypath).format(sess.default_bucket())"
   ]
  },
  {
   "cell_type": "code",
   "execution_count": 515,
   "metadata": {},
   "outputs": [
    {
     "data": {
      "text/plain": [
       "'s3://sagemaker-us-west-2-668209712187/nba-test-2022-10-29-21-49-07-189/rule-output/ProfilerReport/profiler-output/'"
      ]
     },
     "execution_count": 515,
     "metadata": {},
     "output_type": "execute_result"
    }
   ],
   "source": [
    "profiler_report_s3_uri"
   ]
  },
  {
   "cell_type": "markdown",
   "metadata": {},
   "source": [
    "The folder `profiler-reports` contains the built-in rule analysis components, stored in JSON and a Jupyter notebook. They are aggregated into the report."
   ]
  },
  {
   "cell_type": "code",
   "execution_count": 516,
   "metadata": {},
   "outputs": [
    {
     "name": "stdout",
     "output_type": "stream",
     "text": [
      "download: s3://sagemaker-us-west-2-668209712187/nba-test-2022-10-29-21-49-07-189/rule-output/ProfilerReport/profiler-output/profiler-reports/CPUBottleneck.json to profiler_report/profiler-reports/CPUBottleneck.json\n",
      "download: s3://sagemaker-us-west-2-668209712187/nba-test-2022-10-29-21-49-07-189/rule-output/ProfilerReport/profiler-output/profiler-reports/BatchSize.json to profiler_report/profiler-reports/BatchSize.json\n",
      "download: s3://sagemaker-us-west-2-668209712187/nba-test-2022-10-29-21-49-07-189/rule-output/ProfilerReport/profiler-output/profiler-reports/IOBottleneck.json to profiler_report/profiler-reports/IOBottleneck.json\n",
      "download: s3://sagemaker-us-west-2-668209712187/nba-test-2022-10-29-21-49-07-189/rule-output/ProfilerReport/profiler-output/profiler-reports/LoadBalancing.json to profiler_report/profiler-reports/LoadBalancing.json\n",
      "download: s3://sagemaker-us-west-2-668209712187/nba-test-2022-10-29-21-49-07-189/rule-output/ProfilerReport/profiler-output/profiler-reports/GPUMemoryIncrease.json to profiler_report/profiler-reports/GPUMemoryIncrease.json\n",
      "download: s3://sagemaker-us-west-2-668209712187/nba-test-2022-10-29-21-49-07-189/rule-output/ProfilerReport/profiler-output/profiler-reports/LowGPUUtilization.json to profiler_report/profiler-reports/LowGPUUtilization.json\n",
      "download: s3://sagemaker-us-west-2-668209712187/nba-test-2022-10-29-21-49-07-189/rule-output/ProfilerReport/profiler-output/profiler-reports/Dataloader.json to profiler_report/profiler-reports/Dataloader.json\n",
      "download: s3://sagemaker-us-west-2-668209712187/nba-test-2022-10-29-21-49-07-189/rule-output/ProfilerReport/profiler-output/profiler-reports/MaxInitializationTime.json to profiler_report/profiler-reports/MaxInitializationTime.json\n",
      "download: s3://sagemaker-us-west-2-668209712187/nba-test-2022-10-29-21-49-07-189/rule-output/ProfilerReport/profiler-output/profiler-reports/OverallFrameworkMetrics.json to profiler_report/profiler-reports/OverallFrameworkMetrics.json\n",
      "download: s3://sagemaker-us-west-2-668209712187/nba-test-2022-10-29-21-49-07-189/rule-output/ProfilerReport/profiler-output/profiler-reports/StepOutlier.json to profiler_report/profiler-reports/StepOutlier.json\n",
      "download: s3://sagemaker-us-west-2-668209712187/nba-test-2022-10-29-21-49-07-189/rule-output/ProfilerReport/profiler-output/profiler-reports/OverallSystemUsage.json to profiler_report/profiler-reports/OverallSystemUsage.json\n",
      "download: s3://sagemaker-us-west-2-668209712187/nba-test-2022-10-29-21-49-07-189/rule-output/ProfilerReport/profiler-output/profiler-report.ipynb to profiler_report/profiler-report.ipynb\n",
      "download: s3://sagemaker-us-west-2-668209712187/nba-test-2022-10-29-21-49-07-189/rule-output/ProfilerReport/profiler-output/profiler-report.html to profiler_report/profiler-report.html\n",
      "\n",
      "Profiler Report: ./profiler_report/profiler-report.html\n"
     ]
    }
   ],
   "source": [
    "!aws s3 cp --recursive $profiler_report_s3_uri ./profiler_report/\n",
    "print('\\nProfiler Report: ./profiler_report/profiler-report.html')"
   ]
  },
  {
   "cell_type": "markdown",
   "metadata": {},
   "source": [
    "####\n",
    "#### **DEPLOYING THE MODEL**"
   ]
  },
  {
   "cell_type": "code",
   "execution_count": 517,
   "metadata": {},
   "outputs": [
    {
     "data": {
      "text/plain": [
       "'s3://sagemaker-us-west-2-668209712187/nba-test-2022-10-29-21-49-07-189/output/model.tar.gz'"
      ]
     },
     "execution_count": 517,
     "metadata": {},
     "output_type": "execute_result"
    }
   ],
   "source": [
    "estimator.model_data"
   ]
  },
  {
   "cell_type": "code",
   "execution_count": 518,
   "metadata": {
    "tags": []
   },
   "outputs": [],
   "source": [
    "from sagemaker.pytorch.model import PyTorchModel\n",
    "pytorch_model_name = 'pytorch-test3'\n",
    "\n",
    "pytorch_model = PyTorchModel(\n",
    "    name = pytorch_model_name,\n",
    "    model_data = estimator.model_data,\n",
    "    #predictor_cls = NumpyPredictor,\n",
    "    entry_point = 'inference.py',\n",
    "    source_dir = 'code',\n",
    "    framework_version = '1.6.0',\n",
    "    py_version = 'py36',\n",
    "    role = role\n",
    ")"
   ]
  },
  {
   "cell_type": "code",
   "execution_count": 519,
   "metadata": {},
   "outputs": [
    {
     "name": "stderr",
     "output_type": "stream",
     "text": [
      "Using already existing model: pytorch-test3\n"
     ]
    },
    {
     "name": "stdout",
     "output_type": "stream",
     "text": [
      "------!CPU times: user 651 ms, sys: 245 ms, total: 896 ms\n",
      "Wall time: 3min 7s\n"
     ]
    }
   ],
   "source": [
    "%%time\n",
    "\n",
    "pytorch_endpoint_name = 'nba-sexy-endpoint-pytorch'\n",
    "\n",
    "predictor = pytorch_model.deploy(\n",
    "    initial_instance_count=1,\n",
    "    instance_type='ml.m5.large',\n",
    "    endpoint_name=pytorch_endpoint_name\n",
    ")"
   ]
  },
  {
   "cell_type": "code",
   "execution_count": 520,
   "metadata": {},
   "outputs": [],
   "source": [
    "# sm.delete_endpoint_config(EndpointConfigName='nba-sexy-endpoint-pytorch')"
   ]
  },
  {
   "cell_type": "code",
   "execution_count": 521,
   "metadata": {},
   "outputs": [
    {
     "name": "stdout",
     "output_type": "stream",
     "text": [
      "Review Endpoint: https://console.aws.amazon.com/sagemaker/home?region=us-west-2#/endpoints/nba-sexy-endpoint-pytorch\n"
     ]
    }
   ],
   "source": [
    "print('Review Endpoint: https://console.aws.amazon.com/sagemaker/home?region={}#/endpoints/{}'.format(region, pytorch_endpoint_name))"
   ]
  },
  {
   "cell_type": "markdown",
   "metadata": {},
   "source": [
    "####\n",
    "#### **TESTING ON UNSEEN DATA**"
   ]
  },
  {
   "cell_type": "code",
   "execution_count": 522,
   "metadata": {},
   "outputs": [],
   "source": [
    "from sagemaker.predictor import Predictor\n",
    "from sagemaker.pytorch.model import PyTorchPredictor\n",
    "from sagemaker.serializers import CSVSerializer,JSONSerializer,JSONLinesSerializer,NumpySerializer\n",
    "from sagemaker.deserializers import JSONDeserializer,JSONLinesDeserializer\n",
    "\n",
    "class NumpyPredictor(Predictor):\n",
    "    def __init__(self, endpoint_name, sess):\n",
    "        super().__init__(endpoint_name,\n",
    "                         sagemaker_session=sess,\n",
    "                         serializer=NumpySerializer(),\n",
    "                         deserializer=JSONDeserializer())"
   ]
  },
  {
   "cell_type": "code",
   "execution_count": 523,
   "metadata": {},
   "outputs": [],
   "source": [
    "predictor = NumpyPredictor(pytorch_endpoint_name, sess)"
   ]
  },
  {
   "cell_type": "code",
   "execution_count": 524,
   "metadata": {},
   "outputs": [
    {
     "data": {
      "text/plain": [
       "array([[0.70644922, 0.72160229, 0.63636364, 0.27058824, 0.        ],\n",
       "       [0.4306894 , 0.40217453, 0.53246753, 0.76470588, 0.01851852],\n",
       "       [0.63306153, 0.63708155, 0.49350649, 0.43529412, 0.24074074],\n",
       "       ...,\n",
       "       [0.56338028, 0.54855508, 0.35064935, 0.44705882, 0.40740741],\n",
       "       [0.74054855, 0.76211731, 0.46753247, 0.30588235, 0.        ],\n",
       "       [0.44032617, 0.4139628 , 0.37662338, 0.36470588, 0.        ]])"
      ]
     },
     "execution_count": 524,
     "metadata": {},
     "output_type": "execute_result"
    }
   ],
   "source": [
    "inputs = pd.read_csv('./data/processed/csv/train/train.csv').iloc[:,:-1].to_numpy()\n",
    "inputs"
   ]
  },
  {
   "cell_type": "code",
   "execution_count": 525,
   "metadata": {
    "tags": []
   },
   "outputs": [],
   "source": [
    "predicted_classes = predictor.predict(inputs)"
   ]
  },
  {
   "cell_type": "code",
   "execution_count": 526,
   "metadata": {
    "tags": []
   },
   "outputs": [
    {
     "data": {
      "text/plain": [
       "9000"
      ]
     },
     "execution_count": 526,
     "metadata": {},
     "output_type": "execute_result"
    }
   ],
   "source": [
    "len(predicted_classes['predictions'])"
   ]
  },
  {
   "cell_type": "code",
   "execution_count": 543,
   "metadata": {},
   "outputs": [
    {
     "name": "stdout",
     "output_type": "stream",
     "text": [
      "Predicted class 0 with probability 87.69%\n",
      "Predicted class 1 with probability 93.37%\n",
      "Predicted class 0 with probability 87.43%\n",
      "Predicted class 1 with probability 98.63%\n",
      "Predicted class 0 with probability 62.12%\n",
      "Predicted class 1 with probability 93.88%\n",
      "Predicted class 0 with probability 75.31%\n",
      "Predicted class 1 with probability 70.25%\n",
      "Predicted class 1 with probability 80.78%\n",
      "Predicted class 0 with probability 51.50%\n"
     ]
    }
   ],
   "source": [
    "for predicted_class in predicted_classes['probs'][:10]:\n",
    "    p = predicted_class[0]\n",
    "    print(\"Predicted class {} with probability {:.2%}\".format(int(np.round(p)),np.round(max(p,1-p),5)))"
   ]
  },
  {
   "cell_type": "code",
   "execution_count": 529,
   "metadata": {},
   "outputs": [],
   "source": [
    "preds = [np.round(v[0]) for v in predicted_classes['predictions']]\n",
    "\n",
    "ground_truth = pd.read_csv('./data/processed/csv/train/train.csv').iloc[:,:]\n",
    "preds = pd.concat([ground_truth,pd.DataFrame(preds,columns=['pred'])],axis=1)"
   ]
  },
  {
   "cell_type": "code",
   "execution_count": 530,
   "metadata": {},
   "outputs": [
    {
     "data": {
      "text/html": [
       "<div>\n",
       "<style scoped>\n",
       "    .dataframe tbody tr th:only-of-type {\n",
       "        vertical-align: middle;\n",
       "    }\n",
       "\n",
       "    .dataframe tbody tr th {\n",
       "        vertical-align: top;\n",
       "    }\n",
       "\n",
       "    .dataframe thead th {\n",
       "        text-align: right;\n",
       "    }\n",
       "</style>\n",
       "<table border=\"1\" class=\"dataframe\">\n",
       "  <thead>\n",
       "    <tr style=\"text-align: right;\">\n",
       "      <th></th>\n",
       "      <th>diameter</th>\n",
       "      <th>weight</th>\n",
       "      <th>red</th>\n",
       "      <th>green</th>\n",
       "      <th>blue</th>\n",
       "      <th>is_orange</th>\n",
       "      <th>pred</th>\n",
       "    </tr>\n",
       "  </thead>\n",
       "  <tbody>\n",
       "    <tr>\n",
       "      <th>0</th>\n",
       "      <td>0.706449</td>\n",
       "      <td>0.721602</td>\n",
       "      <td>0.636364</td>\n",
       "      <td>0.270588</td>\n",
       "      <td>0.000000</td>\n",
       "      <td>0</td>\n",
       "      <td>0</td>\n",
       "    </tr>\n",
       "    <tr>\n",
       "      <th>1</th>\n",
       "      <td>0.430689</td>\n",
       "      <td>0.402175</td>\n",
       "      <td>0.532468</td>\n",
       "      <td>0.764706</td>\n",
       "      <td>0.018519</td>\n",
       "      <td>1</td>\n",
       "      <td>1</td>\n",
       "    </tr>\n",
       "    <tr>\n",
       "      <th>2</th>\n",
       "      <td>0.633062</td>\n",
       "      <td>0.637082</td>\n",
       "      <td>0.493506</td>\n",
       "      <td>0.435294</td>\n",
       "      <td>0.240741</td>\n",
       "      <td>0</td>\n",
       "      <td>0</td>\n",
       "    </tr>\n",
       "    <tr>\n",
       "      <th>3</th>\n",
       "      <td>0.243884</td>\n",
       "      <td>0.190844</td>\n",
       "      <td>0.636364</td>\n",
       "      <td>0.647059</td>\n",
       "      <td>0.055556</td>\n",
       "      <td>1</td>\n",
       "      <td>1</td>\n",
       "    </tr>\n",
       "    <tr>\n",
       "      <th>4</th>\n",
       "      <td>0.546331</td>\n",
       "      <td>0.528298</td>\n",
       "      <td>0.376623</td>\n",
       "      <td>0.400000</td>\n",
       "      <td>0.000000</td>\n",
       "      <td>0</td>\n",
       "      <td>0</td>\n",
       "    </tr>\n",
       "    <tr>\n",
       "      <th>...</th>\n",
       "      <td>...</td>\n",
       "      <td>...</td>\n",
       "      <td>...</td>\n",
       "      <td>...</td>\n",
       "      <td>...</td>\n",
       "      <td>...</td>\n",
       "      <td>...</td>\n",
       "    </tr>\n",
       "    <tr>\n",
       "      <th>8995</th>\n",
       "      <td>0.428466</td>\n",
       "      <td>0.399313</td>\n",
       "      <td>0.350649</td>\n",
       "      <td>0.635294</td>\n",
       "      <td>0.000000</td>\n",
       "      <td>1</td>\n",
       "      <td>1</td>\n",
       "    </tr>\n",
       "    <tr>\n",
       "      <th>8996</th>\n",
       "      <td>0.512973</td>\n",
       "      <td>0.500715</td>\n",
       "      <td>0.441558</td>\n",
       "      <td>0.717647</td>\n",
       "      <td>0.222222</td>\n",
       "      <td>1</td>\n",
       "      <td>1</td>\n",
       "    </tr>\n",
       "    <tr>\n",
       "      <th>8997</th>\n",
       "      <td>0.563380</td>\n",
       "      <td>0.548555</td>\n",
       "      <td>0.350649</td>\n",
       "      <td>0.447059</td>\n",
       "      <td>0.407407</td>\n",
       "      <td>0</td>\n",
       "      <td>0</td>\n",
       "    </tr>\n",
       "    <tr>\n",
       "      <th>8998</th>\n",
       "      <td>0.740549</td>\n",
       "      <td>0.762117</td>\n",
       "      <td>0.467532</td>\n",
       "      <td>0.305882</td>\n",
       "      <td>0.000000</td>\n",
       "      <td>0</td>\n",
       "      <td>0</td>\n",
       "    </tr>\n",
       "    <tr>\n",
       "      <th>8999</th>\n",
       "      <td>0.440326</td>\n",
       "      <td>0.413963</td>\n",
       "      <td>0.376623</td>\n",
       "      <td>0.364706</td>\n",
       "      <td>0.000000</td>\n",
       "      <td>1</td>\n",
       "      <td>1</td>\n",
       "    </tr>\n",
       "  </tbody>\n",
       "</table>\n",
       "<p>9000 rows × 7 columns</p>\n",
       "</div>"
      ],
      "text/plain": [
       "      diameter    weight       red     green      blue  is_orange  pred\n",
       "0     0.706449  0.721602  0.636364  0.270588  0.000000          0     0\n",
       "1     0.430689  0.402175  0.532468  0.764706  0.018519          1     1\n",
       "2     0.633062  0.637082  0.493506  0.435294  0.240741          0     0\n",
       "3     0.243884  0.190844  0.636364  0.647059  0.055556          1     1\n",
       "4     0.546331  0.528298  0.376623  0.400000  0.000000          0     0\n",
       "...        ...       ...       ...       ...       ...        ...   ...\n",
       "8995  0.428466  0.399313  0.350649  0.635294  0.000000          1     1\n",
       "8996  0.512973  0.500715  0.441558  0.717647  0.222222          1     1\n",
       "8997  0.563380  0.548555  0.350649  0.447059  0.407407          0     0\n",
       "8998  0.740549  0.762117  0.467532  0.305882  0.000000          0     0\n",
       "8999  0.440326  0.413963  0.376623  0.364706  0.000000          1     1\n",
       "\n",
       "[9000 rows x 7 columns]"
      ]
     },
     "execution_count": 530,
     "metadata": {},
     "output_type": "execute_result"
    }
   ],
   "source": [
    "preds"
   ]
  },
  {
   "cell_type": "code",
   "execution_count": 531,
   "metadata": {},
   "outputs": [
    {
     "data": {
      "text/plain": [
       "Text(0.5, 1.0, 'Confusion Matrix')"
      ]
     },
     "execution_count": 531,
     "metadata": {},
     "output_type": "execute_result"
    },
    {
     "data": {
      "image/png": "[encoded data removed]",
      "text/plain": [
       "<Figure size 432x288 with 2 Axes>"
      ]
     },
     "metadata": {
      "image/png": {
       "height": 277,
       "width": 362
      },
      "needs_background": "light"
     },
     "output_type": "display_data"
    }
   ],
   "source": [
    "confusion_matrix = pd.crosstab(\n",
    "    preds['is_orange'],\n",
    "    preds['pred'],\n",
    "    rownames=['Actuals'],\n",
    "    colnames=['Predictions'],\n",
    "    normalize='index',\n",
    ")\n",
    "sns.heatmap(confusion_matrix, annot = True, fmt = '.8f', cmap = 'YlGnBu').set_title('Confusion Matrix')"
   ]
  },
  {
   "cell_type": "code",
   "execution_count": 532,
   "metadata": {},
   "outputs": [],
   "source": [
    "sess.delete_endpoint(predictor.endpoint_name)"
   ]
  }
 ],
 "metadata": {
  "instance_type": "ml.t3.medium",
  "kernelspec": {
   "display_name": "Python 3.9 tf1",
   "language": "python",
   "name": "tensorflow"
  },
  "language_info": {
   "codemirror_mode": {
    "name": "ipython",
    "version": 3
   },
   "file_extension": ".py",
   "mimetype": "text/x-python",
   "name": "python",
   "nbconvert_exporter": "python",
   "pygments_lexer": "ipython3",
   "version": "3.9.9"
  }
 },
 "nbformat": 4,
 "nbformat_minor": 4
}
