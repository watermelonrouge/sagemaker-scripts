{
 "cells": [
  {
   "cell_type": "markdown",
   "metadata": {},
   "source": [
    "#### **SAGEMAKER - BYOS CONFIGURATION FOR TENSORFLOW**"
   ]
  },
  {
   "cell_type": "code",
   "execution_count": 7,
   "metadata": {},
   "outputs": [],
   "source": [
    "import boto3\n",
    "import sagemaker\n",
    "import pandas as pd\n",
    "import numpy as np\n",
    "import botocore\n",
    "import tensorflow as tf\n",
    "import tensorflow_io as tfio\n",
    "import os\n",
    "import re\n",
    "import json\n",
    "import seaborn as sns\n",
    "\n",
    "from io import StringIO\n",
    "from smart_open import smart_open\n",
    "\n",
    "config = botocore.config.Config(user_agent_extra = 'dlai-pds/c2/w2')\n",
    "sm = boto3.client(service_name = 'sagemaker', config = config)\n",
    "sm_runtime = boto3.client('sagemaker-runtime', config = config)\n",
    "sess = sagemaker.Session(sagemaker_client = sm, sagemaker_runtime_client = sm_runtime)\n",
    "\n",
    "bucket = 'hwm-nba' #sess.default_bucket()\n",
    "role = 'arn:aws:iam::668209712187:role/service-role/AmazonSageMaker-ExecutionRole-20220410T165348' #sagemaker.get_execution_role()\n",
    "region = sess.boto_region_name"
   ]
  },
  {
   "cell_type": "code",
   "execution_count": 6,
   "metadata": {},
   "outputs": [],
   "source": [
    "import matplotlib.pyplot as plt\n",
    "%matplotlib inline\n",
    "%config InlineBackend.figure_format='retina'"
   ]
  },
  {
   "cell_type": "markdown",
   "metadata": {},
   "source": [
    "####\n",
    "#### **CONFIGURE DATASET**"
   ]
  },
  {
   "cell_type": "code",
   "execution_count": 8,
   "metadata": {},
   "outputs": [],
   "source": [
    "processed_csv_train = 's3://{}/data/processed/csv/train'.format(bucket)\n",
    "processed_csv_validation = 's3://{}/data/processed/csv/validation'.format(bucket)"
   ]
  },
  {
   "cell_type": "code",
   "execution_count": 5,
   "metadata": {},
   "outputs": [
    {
     "name": "stdout",
     "output_type": "stream",
     "text": [
      "upload: data/processed/csv/train/train.csv to s3://hwm-nba/data/processed/csv/train/train.csv\n",
      "upload: data/processed/csv/validation/validation.csv to s3://hwm-nba/data/processed/csv/validation/validation.csv\n"
     ]
    }
   ],
   "source": [
    "!aws s3 cp --recursive ./data/processed/csv/train $processed_csv_train\n",
    "!aws s3 cp --recursive ./data/processed/csv/validation $processed_csv_validation"
   ]
  },
  {
   "cell_type": "code",
   "execution_count": 6,
   "metadata": {},
   "outputs": [
    {
     "name": "stdout",
     "output_type": "stream",
     "text": [
      "2022-10-22 16:42:35     530310 data/processed/csv/train/train.csv\n",
      "2022-10-22 16:42:38      59073 data/processed/csv/validation/validation.csv\n"
     ]
    }
   ],
   "source": [
    "!aws s3 ls --recursive $processed_csv_train\n",
    "!aws s3 ls --recursive $processed_csv_validation"
   ]
  },
  {
   "cell_type": "markdown",
   "metadata": {},
   "source": [
    "####\n",
    "#### **OPTIONALLY ETL THE DATA TO THE TFRECORDS FORMAT**"
   ]
  },
  {
   "cell_type": "code",
   "execution_count": 9,
   "metadata": {},
   "outputs": [],
   "source": [
    "train = pd.read_csv(smart_open(processed_csv_train+'/train.csv'))\n",
    "validation = pd.read_csv(smart_open(processed_csv_validation+'/validation.csv'))"
   ]
  },
  {
   "cell_type": "code",
   "execution_count": 10,
   "metadata": {},
   "outputs": [],
   "source": [
    "def csv_to_tfrecords(data,path):\n",
    "    with tf.io.TFRecordWriter(path) as file_writer:\n",
    "        for i in range(len(data)): #4):\n",
    "            x = data.iloc[i,:-1].to_numpy().tobytes() #[np.random.random(),np.random.random()]\n",
    "            y = data.iloc[i, -1].astype('int64') #.to_numpy()  #np.random.random()\n",
    "            \n",
    "            mystring = tf.train.Example(features=tf.train.Features(feature={\n",
    "                'x': tf.train.Feature(bytes_list=tf.train.BytesList(value=[x])),\n",
    "                'y': tf.train.Feature(int64_list=tf.train.Int64List(value=[y])),\n",
    "            })).SerializeToString()\n",
    "            file_writer.write(mystring)"
   ]
  },
  {
   "cell_type": "code",
   "execution_count": 11,
   "metadata": {},
   "outputs": [],
   "source": [
    "os.makedirs('./data/processed/tfrecords/train/', exist_ok = True)\n",
    "os.makedirs('./data/processed/tfrecords/validation/', exist_ok = True)"
   ]
  },
  {
   "cell_type": "code",
   "execution_count": 12,
   "metadata": {},
   "outputs": [],
   "source": [
    "csv_to_tfrecords(train,'./data/processed/tfrecords/train/train.tfrecords')\n",
    "csv_to_tfrecords(validation,'./data/processed/tfrecords/validation/validation.tfrecords')"
   ]
  },
  {
   "cell_type": "code",
   "execution_count": 13,
   "metadata": {},
   "outputs": [],
   "source": [
    "processed_tfrecords_train = 's3://{}/data/processed/tfrecords/train'.format(bucket)\n",
    "processed_tfrecords_validation = 's3://{}/data/processed/tfrecords/validation'.format(bucket)"
   ]
  },
  {
   "cell_type": "code",
   "execution_count": 39,
   "metadata": {},
   "outputs": [
    {
     "name": "stdout",
     "output_type": "stream",
     "text": [
      "upload: data/processed/tfrecords/train/train.tfrecords to s3://hwm-nba/data/processed/tfrecords/train/train.tfrecords\n",
      "upload: data/processed/tfrecords/validation/validation.tfrecords to s3://hwm-nba/data/processed/tfrecords/validation/validation.tfrecords\n"
     ]
    }
   ],
   "source": [
    "!aws s3 cp --recursive ./data/processed/tfrecords/train $processed_tfrecords_train\n",
    "!aws s3 cp --recursive ./data/processed/tfrecords/validation $processed_tfrecords_validation"
   ]
  },
  {
   "cell_type": "code",
   "execution_count": 14,
   "metadata": {},
   "outputs": [],
   "source": [
    "s3_input_train_data = sagemaker.inputs.TrainingInput(\n",
    "    s3_data = processed_csv_train\n",
    ")"
   ]
  },
  {
   "cell_type": "code",
   "execution_count": 15,
   "metadata": {},
   "outputs": [],
   "source": [
    "s3_input_validation_data = sagemaker.inputs.TrainingInput(\n",
    "    s3_data = processed_csv_validation\n",
    ")"
   ]
  },
  {
   "cell_type": "code",
   "execution_count": 16,
   "metadata": {},
   "outputs": [
    {
     "ename": "NameError",
     "evalue": "name 's3_input_evaluation_data' is not defined",
     "output_type": "error",
     "traceback": [
      "\u001b[0;31m---------------------------------------------------------------------------\u001b[0m",
      "\u001b[0;31mNameError\u001b[0m                                 Traceback (most recent call last)",
      "Input \u001b[0;32mIn [16]\u001b[0m, in \u001b[0;36m<module>\u001b[0;34m\u001b[0m\n\u001b[1;32m      1\u001b[0m data_channels \u001b[38;5;241m=\u001b[39m {\n\u001b[1;32m      2\u001b[0m     \u001b[38;5;124m'\u001b[39m\u001b[38;5;124mtrain\u001b[39m\u001b[38;5;124m'\u001b[39m: s3_input_train_data,\n\u001b[1;32m      3\u001b[0m     \u001b[38;5;124m'\u001b[39m\u001b[38;5;124mvalidation\u001b[39m\u001b[38;5;124m'\u001b[39m: s3_input_validation_data,\n\u001b[0;32m----> 4\u001b[0m     \u001b[38;5;124m'\u001b[39m\u001b[38;5;124meval\u001b[39m\u001b[38;5;124m'\u001b[39m: \u001b[43ms3_input_evaluation_data\u001b[49m\n\u001b[1;32m      5\u001b[0m }\n",
      "\u001b[0;31mNameError\u001b[0m: name 's3_input_evaluation_data' is not defined"
     ]
    }
   ],
   "source": [
    "data_channels = {\n",
    "    'train': s3_input_train_data,\n",
    "    'validation': s3_input_validation_data,\n",
    "    'eval': s3_input_evaluation_data\n",
    "}"
   ]
  },
  {
   "cell_type": "markdown",
   "metadata": {},
   "source": [
    "####\n",
    "#### **HYPERPARAMETERS**"
   ]
  },
  {
   "cell_type": "code",
   "execution_count": 542,
   "metadata": {},
   "outputs": [],
   "source": [
    "seed = 42\n",
    "epochs = 5\n",
    "batch_size = 500\n",
    "#learning_rate = 2e-5\n",
    "train_batch_size = 500\n",
    "#train_steps_per_epoch = 180\n",
    "validation_batch_size = 500\n",
    "#validation_steps_per_epoch = 20\n",
    "run_validation = 1\n",
    "\n",
    "train_instance_count = 1\n",
    "train_instance_type = 'ml.m4.xlarge' #'ml.c5.9xlarge' #ml.t3.medium' #'ml.c5.9xlarge'\n",
    "train_volume_size = 256\n",
    "input_mode = 'File'"
   ]
  },
  {
   "cell_type": "code",
   "execution_count": 543,
   "metadata": {},
   "outputs": [],
   "source": [
    "hyperparameters = {\n",
    "    'epochs': epochs,\n",
    "    'batch-size': batch_size,\n",
    "    #'learning_rate': learning_rate,\n",
    "    'train-batch-size': train_batch_size,\n",
    "    #'train_steps_per_epoch': train_steps_per_epoch,\n",
    "    'validation-batch-size': validation_batch_size,\n",
    "    #'validation_steps_per_epoch': validation_steps_per_epoch,    \n",
    "    'seed': seed,\n",
    "    'run-validation': run_validation\n",
    "    #'model_dir': 'opt/ml/model' #'s3://{}/outputs'.format(bucket)\n",
    "}"
   ]
  },
  {
   "cell_type": "code",
   "execution_count": 1018,
   "metadata": {},
   "outputs": [],
   "source": [
    "# metric definitions for cloudwatch\n",
    "metric_definitions = [\n",
    "     {'Name': 'validation:loss', 'Regex': 'val_loss: ([0-9.]+)'},\n",
    "     {'Name': 'validation:accuracy', 'Regex': 'val_accuracy: ([0-9.]+)'},\n",
    "]"
   ]
  },
  {
   "cell_type": "markdown",
   "metadata": {},
   "source": [
    "####\n",
    "#### **DEBUGGER RULES**"
   ]
  },
  {
   "cell_type": "code",
   "execution_count": 545,
   "metadata": {},
   "outputs": [],
   "source": [
    "from sagemaker.debugger import Rule, ProfilerRule, rule_configs\n",
    "from sagemaker.debugger import DebuggerHookConfig\n",
    "from sagemaker.debugger import ProfilerConfig, FrameworkProfile"
   ]
  },
  {
   "cell_type": "code",
   "execution_count": 546,
   "metadata": {},
   "outputs": [],
   "source": [
    "# provides options to customize how debugging information is emitted and saved\n",
    "\n",
    "debugger_hook_config = DebuggerHookConfig(\n",
    "    s3_output_path='s3://{}'.format(bucket),\n",
    ")"
   ]
  },
  {
   "cell_type": "code",
   "execution_count": 547,
   "metadata": {},
   "outputs": [],
   "source": [
    "# ProfilerConfig sets the configuration for collecting system and framework metrics of SageMaker Training Jobs.\n",
    "# Parameter `system_monitor_interval_millis` sets the time interval to collect system metrics (in milliseconds).\n",
    "# Parameter `framework_profile_params` is the object for framework metrics profiling. Here you will set its local path,\n",
    "# the step at which to start profiling, `start_step`, and the number of steps to profile, `num_steps`.\n",
    "\n",
    "from sagemaker.debugger import ProfilerConfig, FrameworkProfile\n",
    "\n",
    "profiler_config = ProfilerConfig(\n",
    "    system_monitor_interval_millis=500,\n",
    "    framework_profile_params=FrameworkProfile(local_path='/opt/ml/output/profiler/', start_step=5, num_steps=10)\n",
    ")"
   ]
  },
  {
   "cell_type": "code",
   "execution_count": 548,
   "metadata": {},
   "outputs": [],
   "source": [
    "# For monitoring and profiling the built-in rules you can use the `ProfilerReport`.\n",
    "# It creates a profiling report and updates when the individual rules are triggered.\n",
    "# If you trigger this `ProfilerReport` rule without any customized parameter as in the cell below,\n",
    "# then the `ProfilerReport` rule triggers all of the built-in rules for monitoring and profiling with their default parameter values.\n",
    "# The profiling report can be downloaded while the Training Job is running or after the job has finished.\n",
    "\n",
    "rules = [ProfilerRule.sagemaker(rule_configs.ProfilerReport())]"
   ]
  },
  {
   "cell_type": "markdown",
   "metadata": {},
   "source": [
    "####\n",
    "#### **TRAIN MODEL USING train.py SCRIPT**"
   ]
  },
  {
   "cell_type": "code",
   "execution_count": 676,
   "metadata": {},
   "outputs": [],
   "source": [
    "use_spot_instances = True\n",
    "max_run = 3600\n",
    "max_wait = 7200 if use_spot_instances else None\n",
    "\n",
    "from sagemaker.tensorflow import TensorFlow\n",
    "\n",
    "estimator = TensorFlow(\n",
    "    script_mode=True,\n",
    "    base_job_name = 'nba-test',\n",
    "    source_dir = 'code',\n",
    "    #model_dir = 's3://{}/outputs'.format(bucket),\n",
    "    entry_point = 'train.py',\n",
    "    role = role,\n",
    "    framework_version = '2.8',\n",
    "    py_version = 'py39',\n",
    "    hyperparameters = hyperparameters,\n",
    "    instance_count = train_instance_count,\n",
    "    instance_type = train_instance_type,\n",
    "    #tags = [{\"Key\": \"Project\", \"Value\": \"cifar10\"},{\"Key\": \"TensorBoard\", \"Value\": \"dist\"}],\n",
    "    #distributions = distributions\n",
    "    metric_definitions=metric_definitions,\n",
    "    debugger_hook_config=False, #what happens if we activate this?\n",
    "    use_spot_instances = use_spot_instances,\n",
    "    max_run=max_run,\n",
    "    max_wait=max_wait\n",
    ")"
   ]
  },
  {
   "cell_type": "code",
   "execution_count": 677,
   "metadata": {},
   "outputs": [],
   "source": [
    "estimator.fit(\n",
    "    inputs = data_channels,\n",
    "    wait=False\n",
    ")"
   ]
  },
  {
   "cell_type": "code",
   "execution_count": 678,
   "metadata": {},
   "outputs": [
    {
     "name": "stdout",
     "output_type": "stream",
     "text": [
      "Training Job name: nba-test-2022-10-24-06-53-44-124\n"
     ]
    }
   ],
   "source": [
    "training_job_name = estimator.latest_training_job.name\n",
    "# training_job_name = estimator.latest_training_job.describe()['TrainingJobName'] #review all these keys\n",
    "print('Training Job name: {}'.format(training_job_name))"
   ]
  },
  {
   "cell_type": "code",
   "execution_count": 1023,
   "metadata": {},
   "outputs": [
    {
     "name": "stdout",
     "output_type": "stream",
     "text": [
      "Training Job status: InProgress\n",
      "\n",
      "SageMaker Training Job: https://console.aws.amazon.com/sagemaker/home?region=us-west-2#/jobs/nba-test-2022-10-24-06-53-44-124\n",
      "\n",
      "CloudWatch Logs: https://console.aws.amazon.com/cloudwatch/home?region=us-west-2#logStream:group=/aws/sagemaker/TrainingJobs;prefix=nba-test-2022-10-24-06-53-44-124;streamFilter=typeLogStreamPrefix\n",
      "\n",
      "S3 Output Data: https://s3.console.aws.amazon.com/s3/buckets/hwm-nba/nba-test-2022-10-24-06-53-44-124/?region=us-west-2&tab=overview\n"
     ]
    }
   ],
   "source": [
    "#training_job_status_primary = estimator.latest_training_job.describe()['TrainingJobStatus']\n",
    "print('Training Job status: {}'.format(training_job_status_primary)+'\\n')\n",
    "print('SageMaker Training Job: https://console.aws.amazon.com/sagemaker/home?region={}#/jobs/{}'.format(region, training_job_name)+'\\n')\n",
    "print('CloudWatch Logs: https://console.aws.amazon.com/cloudwatch/home?region={}#logStream:group=/aws/sagemaker/TrainingJobs;prefix={};streamFilter=typeLogStreamPrefix'.format(region, training_job_name)+'\\n')\n",
    "print('S3 Output Data: https://s3.console.aws.amazon.com/s3/buckets/{}/{}/?region={}&tab=overview'.format(bucket, training_job_name, region))\n"
   ]
  },
  {
   "cell_type": "code",
   "execution_count": 688,
   "metadata": {},
   "outputs": [
    {
     "name": "stdout",
     "output_type": "stream",
     "text": [
      "\n",
      "2022-10-24 06:53:47 Starting - Starting the training job......\n",
      "2022-10-24 06:54:20 Starting - Preparing the instances for training..................\n",
      "2022-10-24 06:55:58 Downloading - Downloading input data.......\n",
      "2022-10-24 06:56:39 Training - Downloading the training image.............\n",
      "2022-10-24 06:57:50 Training - Training image download completed. Training in progress...............\n",
      "2022-10-24 06:59:05 Uploading - Uploading generated training model..\n",
      "2022-10-24 06:59:21 Completed - Training job completed\n",
      "CPU times: user 604 ms, sys: 109 ms, total: 713 ms\n",
      "Wall time: 5min 37s\n"
     ]
    }
   ],
   "source": [
    "# This cell take a while to run\n",
    "%%time\n",
    "estimator.latest_training_job.wait(logs=False)"
   ]
  },
  {
   "cell_type": "code",
   "execution_count": 689,
   "metadata": {},
   "outputs": [
    {
     "data": {
      "text/html": [
       "<div>\n",
       "<style scoped>\n",
       "    .dataframe tbody tr th:only-of-type {\n",
       "        vertical-align: middle;\n",
       "    }\n",
       "\n",
       "    .dataframe tbody tr th {\n",
       "        vertical-align: top;\n",
       "    }\n",
       "\n",
       "    .dataframe thead th {\n",
       "        text-align: right;\n",
       "    }\n",
       "</style>\n",
       "<table border=\"1\" class=\"dataframe\">\n",
       "  <thead>\n",
       "    <tr style=\"text-align: right;\">\n",
       "      <th></th>\n",
       "      <th>timestamp</th>\n",
       "      <th>metric_name</th>\n",
       "      <th>value</th>\n",
       "    </tr>\n",
       "  </thead>\n",
       "  <tbody>\n",
       "    <tr>\n",
       "      <th>0</th>\n",
       "      <td>0.0</td>\n",
       "      <td>validation:loss</td>\n",
       "      <td>0.35532</td>\n",
       "    </tr>\n",
       "    <tr>\n",
       "      <th>1</th>\n",
       "      <td>0.0</td>\n",
       "      <td>validation:accuracy</td>\n",
       "      <td>0.92640</td>\n",
       "    </tr>\n",
       "  </tbody>\n",
       "</table>\n",
       "</div>"
      ],
      "text/plain": [
       "   timestamp          metric_name    value\n",
       "0        0.0      validation:loss  0.35532\n",
       "1        0.0  validation:accuracy  0.92640"
      ]
     },
     "execution_count": 689,
     "metadata": {},
     "output_type": "execute_result"
    }
   ],
   "source": [
    "df_metrics = estimator.training_job_analytics.dataframe()\n",
    "df_metrics"
   ]
  },
  {
   "cell_type": "code",
   "execution_count": 690,
   "metadata": {},
   "outputs": [
    {
     "data": {
      "text/plain": [
       "<AxesSubplot:xlabel='timestamp'>"
      ]
     },
     "execution_count": 690,
     "metadata": {},
     "output_type": "execute_result"
    },
    {
     "data": {
      "image/png": "[encoded data removed]",
      "text/plain": [
       "<Figure size 432x288 with 1 Axes>"
      ]
     },
     "metadata": {
      "image/png": {
       "height": 261,
       "width": 384
      },
      "needs_background": "light"
     },
     "output_type": "display_data"
    }
   ],
   "source": [
    "df_metrics.query(\"metric_name=='validation:loss'\").plot(x='timestamp', y='value')"
   ]
  },
  {
   "cell_type": "markdown",
   "metadata": {
    "jp-MarkdownHeadingCollapsed": true,
    "tags": []
   },
   "source": [
    "<a name='c2w2-2.2.'></a>\n",
    "### 2.2. Analyze Debugger results"
   ]
  },
  {
   "cell_type": "markdown",
   "metadata": {},
   "source": [
    "You can now explore the debugger output data:"
   ]
  },
  {
   "cell_type": "code",
   "execution_count": 691,
   "metadata": {},
   "outputs": [
    {
     "data": {
      "text/html": [
       "<b>Review <a target=\"blank\" href=\"https://s3.console.aws.amazon.com/s3/buckets/sagemaker-us-west-2-668209712187?prefix=nba-test-2022-10-24-06-53-44-124/\">S3 debugger output data</a></b>"
      ],
      "text/plain": [
       "<IPython.core.display.HTML object>"
      ]
     },
     "metadata": {},
     "output_type": "display_data"
    }
   ],
   "source": [
    "from IPython.core.display import display, HTML\n",
    "\n",
    "display(\n",
    "    HTML(\n",
    "        '<b>Review <a target=\"blank\" href=\"https://s3.console.aws.amazon.com/s3/buckets/{}?prefix={}/\">S3 debugger output data</a></b>'.format(\n",
    "            sess.default_bucket(), training_job_name\n",
    "        )\n",
    "    )\n",
    ")"
   ]
  },
  {
   "cell_type": "code",
   "execution_count": 692,
   "metadata": {},
   "outputs": [
    {
     "data": {
      "text/plain": [
       "'<b>Review <a target=\"blank\" href=\"https://s3.console.aws.amazon.com/s3/buckets/hwm-nba?prefix=nba-test-2022-10-24-06-53-44-124/\">S3 debugger output data</a></b>'"
      ]
     },
     "execution_count": 692,
     "metadata": {},
     "output_type": "execute_result"
    }
   ],
   "source": [
    "'<b>Review <a target=\"blank\" href=\"https://s3.console.aws.amazon.com/s3/buckets/{}?prefix={}/\">S3 debugger output data</a></b>'.format(\n",
    "            bucket, training_job_name\n",
    "        )"
   ]
  },
  {
   "cell_type": "markdown",
   "metadata": {
    "tags": []
   },
   "source": [
    "<a name='c2w2-2.3.'></a>\n",
    "### 2.3. Download SageMaker debugger profiling report"
   ]
  },
  {
   "cell_type": "code",
   "execution_count": null,
   "metadata": {},
   "outputs": [],
   "source": []
  },
  {
   "cell_type": "markdown",
   "metadata": {},
   "source": [
    "You can download and review the debugger profiling report. Here is the path in the S3 bucket:"
   ]
  },
  {
   "cell_type": "code",
   "execution_count": 570,
   "metadata": {},
   "outputs": [],
   "source": [
    "#profiler_report_s3_uri = \"s3://{}/{}/rule-output/\".format(sess.default_bucket(), training_job_name)\n",
    "\n",
    "# ProfilerReport/profiler-output\n",
    "# s3://sagemaker-us-west-2-668209712187/nba-test-2022-10-23-23-40-43-301/rule-output/ProfilerReport-1666568444/profiler-output/"
   ]
  },
  {
   "cell_type": "code",
   "execution_count": 604,
   "metadata": {},
   "outputs": [],
   "source": [
    "#profiler_report_s3_uri"
   ]
  },
  {
   "cell_type": "markdown",
   "metadata": {},
   "source": [
    "You can list the report files:"
   ]
  },
  {
   "cell_type": "code",
   "execution_count": 693,
   "metadata": {},
   "outputs": [],
   "source": [
    "!aws s3 ls $profiler_report_s3_uri/"
   ]
  },
  {
   "cell_type": "code",
   "execution_count": 694,
   "metadata": {},
   "outputs": [],
   "source": [
    "s3 = boto3.Session().resource('s3')\n",
    "my_bucket = s3.Bucket(sess.default_bucket())\n",
    "\n",
    "for my_bucket_object in my_bucket.objects.filter(Prefix=training_job_name): #.all():\n",
    "    if re.search('rule-output.*profiler-output',my_bucket_object.key):\n",
    "        mypath = my_bucket_object.key\n",
    "        mypath = mypath.split('profiler-output/')[0]+'profiler-output/'\n",
    "        break\n",
    "    \n",
    "profiler_report_s3_uri = ('s3://{}/'+mypath).format(sess.default_bucket())"
   ]
  },
  {
   "cell_type": "code",
   "execution_count": 695,
   "metadata": {},
   "outputs": [
    {
     "data": {
      "text/plain": [
       "'s3://sagemaker-us-west-2-668209712187/nba-test-2022-10-24-06-53-44-124/rule-output/ProfilerReport-1666594425/profiler-output/'"
      ]
     },
     "execution_count": 695,
     "metadata": {},
     "output_type": "execute_result"
    }
   ],
   "source": [
    "profiler_report_s3_uri"
   ]
  },
  {
   "cell_type": "markdown",
   "metadata": {},
   "source": [
    "The folder `profiler-reports` contains the built-in rule analysis components, stored in JSON and a Jupyter notebook. They are aggregated into the report."
   ]
  },
  {
   "cell_type": "code",
   "execution_count": 696,
   "metadata": {},
   "outputs": [
    {
     "name": "stdout",
     "output_type": "stream",
     "text": [
      "download: s3://sagemaker-us-west-2-668209712187/nba-test-2022-10-24-06-53-44-124/rule-output/ProfilerReport-1666594425/profiler-output/profiler-reports/BatchSize.json to profiler_report/profiler-reports/BatchSize.json\n",
      "download: s3://sagemaker-us-west-2-668209712187/nba-test-2022-10-24-06-53-44-124/rule-output/ProfilerReport-1666594425/profiler-output/profiler-reports/LowGPUUtilization.json to profiler_report/profiler-reports/LowGPUUtilization.json\n",
      "download: s3://sagemaker-us-west-2-668209712187/nba-test-2022-10-24-06-53-44-124/rule-output/ProfilerReport-1666594425/profiler-output/profiler-reports/MaxInitializationTime.json to profiler_report/profiler-reports/MaxInitializationTime.json\n",
      "download: s3://sagemaker-us-west-2-668209712187/nba-test-2022-10-24-06-53-44-124/rule-output/ProfilerReport-1666594425/profiler-output/profiler-reports/Dataloader.json to profiler_report/profiler-reports/Dataloader.json\n",
      "download: s3://sagemaker-us-west-2-668209712187/nba-test-2022-10-24-06-53-44-124/rule-output/ProfilerReport-1666594425/profiler-output/profiler-reports/CPUBottleneck.json to profiler_report/profiler-reports/CPUBottleneck.json\n",
      "download: s3://sagemaker-us-west-2-668209712187/nba-test-2022-10-24-06-53-44-124/rule-output/ProfilerReport-1666594425/profiler-output/profiler-reports/LoadBalancing.json to profiler_report/profiler-reports/LoadBalancing.json\n",
      "download: s3://sagemaker-us-west-2-668209712187/nba-test-2022-10-24-06-53-44-124/rule-output/ProfilerReport-1666594425/profiler-output/profiler-reports/IOBottleneck.json to profiler_report/profiler-reports/IOBottleneck.json\n",
      "download: s3://sagemaker-us-west-2-668209712187/nba-test-2022-10-24-06-53-44-124/rule-output/ProfilerReport-1666594425/profiler-output/profiler-reports/OverallFrameworkMetrics.json to profiler_report/profiler-reports/OverallFrameworkMetrics.json\n",
      "download: s3://sagemaker-us-west-2-668209712187/nba-test-2022-10-24-06-53-44-124/rule-output/ProfilerReport-1666594425/profiler-output/profiler-reports/GPUMemoryIncrease.json to profiler_report/profiler-reports/GPUMemoryIncrease.json\n",
      "download: s3://sagemaker-us-west-2-668209712187/nba-test-2022-10-24-06-53-44-124/rule-output/ProfilerReport-1666594425/profiler-output/profiler-reports/OverallSystemUsage.json to profiler_report/profiler-reports/OverallSystemUsage.json\n",
      "download: s3://sagemaker-us-west-2-668209712187/nba-test-2022-10-24-06-53-44-124/rule-output/ProfilerReport-1666594425/profiler-output/profiler-report.ipynb to profiler_report/profiler-report.ipynb\n",
      "download: s3://sagemaker-us-west-2-668209712187/nba-test-2022-10-24-06-53-44-124/rule-output/ProfilerReport-1666594425/profiler-output/profiler-reports/StepOutlier.json to profiler_report/profiler-reports/StepOutlier.json\n",
      "download: s3://sagemaker-us-west-2-668209712187/nba-test-2022-10-24-06-53-44-124/rule-output/ProfilerReport-1666594425/profiler-output/profiler-report.html to profiler_report/profiler-report.html\n"
     ]
    }
   ],
   "source": [
    "!aws s3 cp --recursive $profiler_report_s3_uri ./profiler_report/"
   ]
  },
  {
   "cell_type": "markdown",
   "metadata": {},
   "source": [
    "You can review the profiler report in the console.\n",
    "\n",
    "**Note**: Click `Trust HTML` in the profiler-report.html tab that opens (on top of the document)."
   ]
  },
  {
   "cell_type": "code",
   "execution_count": 606,
   "metadata": {},
   "outputs": [
    {
     "data": {
      "text/html": [
       "<b>Review <a target=\"blank\" href=\"./profiler_report/profiler-report.html\">profiler report</a></b>"
      ],
      "text/plain": [
       "<IPython.core.display.HTML object>"
      ]
     },
     "metadata": {},
     "output_type": "display_data"
    }
   ],
   "source": [
    "from IPython.core.display import display, HTML\n",
    "\n",
    "display(HTML('<b>Review <a target=\"blank\" href=\"./profiler_report/profiler-report.html\">profiler report</a></b>'))"
   ]
  },
  {
   "cell_type": "markdown",
   "metadata": {},
   "source": [
    "####\n",
    "#### **DEPLOYING THE MODEL**"
   ]
  },
  {
   "cell_type": "code",
   "execution_count": 697,
   "metadata": {
    "tags": []
   },
   "outputs": [
    {
     "name": "stderr",
     "output_type": "stream",
     "text": [
      "WARNING:sagemaker.deprecations:The class sagemaker.tensorflow.serving.Model has been renamed in sagemaker>=2.\n",
      "See: https://sagemaker.readthedocs.io/en/stable/v2.html for details.\n"
     ]
    }
   ],
   "source": [
    "from sagemaker.tensorflow.serving import TensorFlowModel #Model\n",
    "\n",
    "tensorflow_serving_model = TensorFlowModel(\n",
    "    model_data = estimator.model_data,\n",
    "    role = role,\n",
    "    framework_version = '2.8', # version 2.8 appears to be the latest compatible - can review this later\n",
    "    sagemaker_session = sess,\n",
    "    source_dir = 'code',\n",
    "    entry_point = 'inference.py'\n",
    ")\n",
    "\n",
    "input_data_path = processed_csv_eval\n",
    "output_data_path = 's3://hwm-nba/test-predictions'\n",
    "batch_instance_count = 1\n",
    "batch_instance_type = 'ml.m4.xlarge'\n",
    "concurrency = 1  # can we make this higher and not waste on fees?\n",
    "max_payload_in_mb = 1\n",
    "\n",
    "transformer = tensorflow_serving_model.transformer(\n",
    "    instance_count=batch_instance_count,\n",
    "    instance_type=batch_instance_type,\n",
    "    max_concurrent_transforms=concurrency,\n",
    "    max_payload=max_payload_in_mb,\n",
    "    output_path=output_data_path,\n",
    "    strategy='MultiRecord' # so we can process many test examples at once\n",
    ")"
   ]
  },
  {
   "cell_type": "code",
   "execution_count": 698,
   "metadata": {
    "collapsed": true,
    "jupyter": {
     "outputs_hidden": true
    },
    "tags": []
   },
   "outputs": [
    {
     "name": "stdout",
     "output_type": "stream",
     "text": [
      "............................\u001b[34mINFO:__main__:PYTHON SERVICE: True\u001b[0m\n",
      "\u001b[34mINFO:__main__:starting services\u001b[0m\n",
      "\u001b[34mINFO:__main__:using default model name: model\u001b[0m\n",
      "\u001b[34mINFO:__main__:tensorflow serving model config: \u001b[0m\n",
      "\u001b[34mmodel_config_list: {\n",
      "  config: {\n",
      "    name: 'model'\n",
      "    base_path: '/opt/ml/model'\n",
      "    model_platform: 'tensorflow'\n",
      "    model_version_policy: {\n",
      "      specific: {\n",
      "        versions: 1\n",
      "      }\n",
      "    }\n",
      "  }\u001b[0m\n",
      "\u001b[34m}\u001b[0m\n",
      "\u001b[34mINFO:__main__:tensorflow version info:\u001b[0m\n",
      "\u001b[34mTensorFlow ModelServer: 2.8.3-rc1+dev.sha.no_git\u001b[0m\n",
      "\u001b[34mTensorFlow Library: 2.8.3\u001b[0m\n",
      "\u001b[34mINFO:__main__:tensorflow serving command: tensorflow_model_server --port=10000 --rest_api_port=10001 --model_config_file=/sagemaker/model-config.cfg --max_num_load_retries=0    \u001b[0m\n",
      "\u001b[34mINFO:__main__:started tensorflow serving (pid: 14)\u001b[0m\n",
      "\u001b[34mINFO:tfs_utils:Trying to connect with model server: http://localhost:10001/v1/models/model\u001b[0m\n",
      "\u001b[34mWARNING:urllib3.connectionpool:Retrying (Retry(total=8, connect=None, read=None, redirect=None, status=None)) after connection broken by 'NewConnectionError('<urllib3.connection.HTTPConnection object at 0x7f6485ee0850>: Failed to establish a new connection: [Errno 111] Connection refused')': /v1/models/model\u001b[0m\n",
      "\u001b[34m2022-10-24 07:04:19.547363: I tensorflow_serving/model_servers/server_core.cc:465] Adding/updating models.\u001b[0m\n",
      "\u001b[34m2022-10-24 07:04:19.547458: I tensorflow_serving/model_servers/server_core.cc:594]  (Re-)adding model: model\u001b[0m\n",
      "\u001b[34m2022-10-24 07:04:19.649000: I tensorflow_serving/util/retrier.cc:46] Retrying of Reserving resources for servable: {name: model version: 1} exhausted max_num_retries: 0\u001b[0m\n",
      "\u001b[34m2022-10-24 07:04:19.649064: I tensorflow_serving/core/basic_manager.cc:740] Successfully reserved resources to load servable {name: model version: 1}\u001b[0m\n",
      "\u001b[34m2022-10-24 07:04:19.649082: I tensorflow_serving/core/loader_harness.cc:66] Approving load for servable version {name: model version: 1}\u001b[0m\n",
      "\u001b[34m2022-10-24 07:04:19.649099: I tensorflow_serving/core/loader_harness.cc:74] Loading servable version {name: model version: 1}\u001b[0m\n",
      "\u001b[34m2022-10-24 07:04:19.649158: I external/org_tensorflow/tensorflow/cc/saved_model/reader.cc:43] Reading SavedModel from: /opt/ml/model/00001\u001b[0m\n",
      "\u001b[34m2022-10-24 07:04:19.652123: I external/org_tensorflow/tensorflow/cc/saved_model/reader.cc:78] Reading meta graph with tags { serve }\u001b[0m\n",
      "\u001b[34m2022-10-24 07:04:19.652168: I external/org_tensorflow/tensorflow/cc/saved_model/reader.cc:119] Reading SavedModel debug info (if present) from: /opt/ml/model/00001\u001b[0m\n",
      "\u001b[34m2022-10-24 07:04:19.652283: I external/org_tensorflow/tensorflow/core/platform/cpu_feature_guard.cc:151] This TensorFlow binary is optimized with oneAPI Deep Neural Network Library (oneDNN) to use the following CPU instructions in performance-critical operations:  AVX2 FMA\u001b[0m\n",
      "\u001b[34mTo enable them in other operations, rebuild TensorFlow with the appropriate compiler flags.\u001b[0m\n",
      "\u001b[34mWARNING:urllib3.connectionpool:Retrying (Retry(total=7, connect=None, read=None, redirect=None, status=None)) after connection broken by 'NewConnectionError('<urllib3.connection.HTTPConnection object at 0x7f6485ee0c40>: Failed to establish a new connection: [Errno 111] Connection refused')': /v1/models/model\u001b[0m\n",
      "\u001b[34m2022-10-24 07:04:19.709819: I external/org_tensorflow/tensorflow/cc/saved_model/loader.cc:228] Restoring SavedModel bundle.\u001b[0m\n",
      "\u001b[34m2022-10-24 07:04:19.774597: I external/org_tensorflow/tensorflow/cc/saved_model/loader.cc:212] Running initialization op on SavedModel bundle at path: /opt/ml/model/00001\u001b[0m\n",
      "\u001b[34m2022-10-24 07:04:19.788950: I external/org_tensorflow/tensorflow/cc/saved_model/loader.cc:301] SavedModel load for tags { serve }; Status: success: OK. Took 139770 microseconds.\u001b[0m\n",
      "\u001b[34m2022-10-24 07:04:19.789705: I tensorflow_serving/servables/tensorflow/saved_model_warmup_util.cc:59] No warmup data file found at /opt/ml/model/00001/assets.extra/tf_serving_warmup_requests\u001b[0m\n",
      "\u001b[34m2022-10-24 07:04:19.790212: I tensorflow_serving/util/retrier.cc:46] Retrying of Loading servable: {name: model version: 1} exhausted max_num_retries: 0\u001b[0m\n",
      "\u001b[34m2022-10-24 07:04:19.790238: I tensorflow_serving/core/loader_harness.cc:87] Successfully loaded servable version {name: model version: 1}\u001b[0m\n",
      "\u001b[34m2022-10-24 07:04:19.791507: I tensorflow_serving/model_servers/server_core.cc:486] Finished adding/updating models\u001b[0m\n",
      "\u001b[34m2022-10-24 07:04:19.791741: I tensorflow_serving/model_servers/server.cc:133] Using InsecureServerCredentials\u001b[0m\n",
      "\u001b[34m2022-10-24 07:04:19.791809: I tensorflow_serving/model_servers/server.cc:391] Profiler service is enabled\u001b[0m\n",
      "\u001b[34m2022-10-24 07:04:19.792664: I tensorflow_serving/model_servers/server.cc:417] Running gRPC ModelServer at 0.0.0.0:10000 ...\u001b[0m\n",
      "\u001b[34m[warn] getaddrinfo: address family for nodename not supported\u001b[0m\n",
      "\u001b[34m2022-10-24 07:04:19.794291: I tensorflow_serving/model_servers/server.cc:438] Exporting HTTP/REST API at:localhost:10001 ...\u001b[0m\n",
      "\u001b[34m[evhttp_server.cc : 245] NET_LOG: Entering the event loop ...\u001b[0m\n",
      "\u001b[34mWARNING:urllib3.connectionpool:Retrying (Retry(total=6, connect=None, read=None, redirect=None, status=None)) after connection broken by 'NewConnectionError('<urllib3.connection.HTTPConnection object at 0x7f6485ee0a00>: Failed to establish a new connection: [Errno 111] Connection refused')': /v1/models/model\u001b[0m\n",
      "\u001b[34mINFO:tfs_utils:<Response [200]>\u001b[0m\n",
      "\u001b[34mINFO:tfs_utils:model: http://localhost:10001/v1/models/model is available now\u001b[0m\n",
      "\u001b[34mINFO:__main__:nginx config: \u001b[0m\n",
      "\u001b[34mload_module modules/ngx_http_js_module.so;\u001b[0m\n",
      "\u001b[34mworker_processes auto;\u001b[0m\n",
      "\u001b[34mdaemon off;\u001b[0m\n",
      "\u001b[34mpid /tmp/nginx.pid;\u001b[0m\n",
      "\u001b[34merror_log  /dev/stderr error;\u001b[0m\n",
      "\u001b[34mworker_rlimit_nofile 4096;\u001b[0m\n",
      "\u001b[34mevents {\n",
      "  worker_connections 2048;\u001b[0m\n",
      "\u001b[34m}\u001b[0m\n",
      "\u001b[34mhttp {\n",
      "  include /etc/nginx/mime.types;\n",
      "  default_type application/json;\n",
      "  access_log /dev/stdout combined;\n",
      "  js_import tensorflowServing.js;\n",
      "  proxy_read_timeout 60;  \n",
      "  upstream tfs_upstream {\n",
      "    server localhost:10001;\n",
      "  }\n",
      "  upstream gunicorn_upstream {\n",
      "    server unix:/tmp/gunicorn.sock fail_timeout=1;\n",
      "  }\n",
      "  server {\n",
      "    listen 8080 deferred;\n",
      "    client_max_body_size 0;\n",
      "    client_body_buffer_size 100m;\n",
      "    subrequest_output_buffer_size 100m;\n",
      "    set $tfs_version 2.8;\n",
      "    set $default_tfs_model model;\n",
      "    location /tfs {\n",
      "        rewrite ^/tfs/(.*) /$1  break;\n",
      "        proxy_redirect off;\n",
      "        proxy_pass_request_headers off;\n",
      "        proxy_set_header Content-Type 'application/json';\n",
      "        proxy_set_header Accept 'application/json';\n",
      "        proxy_pass http://tfs_upstream;\n",
      "    }\n",
      "    location /ping {\n",
      "        proxy_pass http://gunicorn_upstream/ping;\n",
      "    }\n",
      "    location /invocations {\n",
      "        proxy_pass http://gunicorn_upstream/invocations;\n",
      "    }\n",
      "    location /models {\n",
      "        proxy_pass http://gunicorn_upstream/models;\n",
      "    }\n",
      "    location / {\n",
      "        return 404 '{\"error\": \"Not Found\"}';\n",
      "    }\n",
      "    keepalive_timeout 3;\n",
      "  }\u001b[0m\n",
      "\u001b[34m}\n",
      "  \u001b[0m\n",
      "\u001b[34mINFO:__main__:installing packages from requirements.txt...\u001b[0m\n",
      "\u001b[34mCollecting numpy\n",
      "  Downloading numpy-1.23.4-cp39-cp39-manylinux_2_17_x86_64.manylinux2014_x86_64.whl (17.1 MB)\n",
      "     ━━━━━━━━━━━━━━━━━━━━━━━━━━━━━━━━━━━━━━━━ 17.1/17.1 MB 56.8 MB/s eta 0:00:00\u001b[0m\n",
      "\u001b[34mCollecting pandas\n",
      "  Downloading pandas-1.5.1-cp39-cp39-manylinux_2_17_x86_64.manylinux2014_x86_64.whl (12.2 MB)\u001b[0m\n",
      "\u001b[34m     ━━━━━━━━━━━━━━━━━━━━━━━━━━━━━━━━━━━━━━━━ 12.2/12.2 MB 64.3 MB/s eta 0:00:00\u001b[0m\n",
      "\u001b[34mCollecting pytz>=2020.1\n",
      "  Downloading pytz-2022.5-py2.py3-none-any.whl (500 kB)\n",
      "     ━━━━━━━━━━━━━━━━━━━━━━━━━━━━━━━━━━━━━━ 500.7/500.7 kB 40.7 MB/s eta 0:00:00\u001b[0m\n",
      "\u001b[34mRequirement already satisfied: python-dateutil>=2.8.1 in /usr/local/lib/python3.9/site-packages (from pandas->-r /opt/ml/model/code/requirements.txt (line 5)) (2.8.2)\u001b[0m\n",
      "\u001b[34mRequirement already satisfied: six>=1.5 in /usr/local/lib/python3.9/site-packages (from python-dateutil>=2.8.1->pandas->-r /opt/ml/model/code/requirements.txt (line 5)) (1.16.0)\u001b[0m\n",
      "\u001b[34mInstalling collected packages: pytz, numpy, pandas\u001b[0m\n",
      "\n",
      "\u001b[34mSuccessfully installed numpy-1.23.4 pandas-1.5.1 pytz-2022.5\u001b[0m\n",
      "\u001b[34mWARNING: Running pip as the 'root' user can result in broken permissions and conflicting behaviour with the system package manager. It is recommended to use a virtual environment instead: https://pip.pypa.io/warnings/venv\u001b[0m\n",
      "\u001b[35mSuccessfully installed numpy-1.23.4 pandas-1.5.1 pytz-2022.5\u001b[0m\n",
      "\u001b[35mWARNING: Running pip as the 'root' user can result in broken permissions and conflicting behaviour with the system package manager. It is recommended to use a virtual environment instead: https://pip.pypa.io/warnings/venv\u001b[0m\n",
      "\u001b[34m[notice] A new release of pip available: 22.2.2 -> 22.3\u001b[0m\n",
      "\u001b[34m[notice] To update, run: pip install --upgrade pip\u001b[0m\n",
      "\u001b[34mINFO:__main__:gunicorn command: gunicorn -b unix:/tmp/gunicorn.sock -k gevent --chdir /sagemaker --workers 1 --threads 1 --log-level info --timeout 30 --pythonpath /opt/ml/model/code -e TFS_GRPC_PORTS=10000 -e TFS_REST_PORTS=10001 -e SAGEMAKER_MULTI_MODEL=False -e SAGEMAKER_SAFE_PORT_RANGE=10000-10999 -e SAGEMAKER_TFS_WAIT_TIME_SECONDS=300 python_service:app\u001b[0m\n",
      "\u001b[34mINFO:__main__:gunicorn version info:\u001b[0m\n",
      "\u001b[34mgunicorn (version 20.1.0)\u001b[0m\n",
      "\u001b[34mINFO:__main__:started gunicorn (pid: 75)\u001b[0m\n",
      "\u001b[35m[notice] A new release of pip available: 22.2.2 -> 22.3\u001b[0m\n",
      "\u001b[35m[notice] To update, run: pip install --upgrade pip\u001b[0m\n",
      "\u001b[35mINFO:__main__:gunicorn command: gunicorn -b unix:/tmp/gunicorn.sock -k gevent --chdir /sagemaker --workers 1 --threads 1 --log-level info --timeout 30 --pythonpath /opt/ml/model/code -e TFS_GRPC_PORTS=10000 -e TFS_REST_PORTS=10001 -e SAGEMAKER_MULTI_MODEL=False -e SAGEMAKER_SAFE_PORT_RANGE=10000-10999 -e SAGEMAKER_TFS_WAIT_TIME_SECONDS=300 python_service:app\u001b[0m\n",
      "\u001b[35mINFO:__main__:gunicorn version info:\u001b[0m\n",
      "\u001b[35mgunicorn (version 20.1.0)\u001b[0m\n",
      "\u001b[35mINFO:__main__:started gunicorn (pid: 75)\u001b[0m\n",
      "\u001b[34m[2022-10-24 07:04:31 +0000] [75] [INFO] Starting gunicorn 20.1.0\u001b[0m\n",
      "\u001b[34m[2022-10-24 07:04:31 +0000] [75] [INFO] Listening at: unix:/tmp/gunicorn.sock (75)\u001b[0m\n",
      "\u001b[34mINFO:__main__:gunicorn server is ready!\u001b[0m\n",
      "\u001b[34m[2022-10-24 07:04:31 +0000] [75] [INFO] Using worker: gevent\u001b[0m\n",
      "\u001b[34m[2022-10-24 07:04:31 +0000] [77] [INFO] Booting worker with pid: 77\u001b[0m\n",
      "\u001b[34mINFO:__main__:nginx version info:\u001b[0m\n",
      "\u001b[34mnginx version: nginx/1.22.0\u001b[0m\n",
      "\u001b[34mbuilt by gcc 9.3.0 (Ubuntu 9.3.0-10ubuntu2) \u001b[0m\n",
      "\u001b[35m[2022-10-24 07:04:31 +0000] [75] [INFO] Starting gunicorn 20.1.0\u001b[0m\n",
      "\u001b[35m[2022-10-24 07:04:31 +0000] [75] [INFO] Listening at: unix:/tmp/gunicorn.sock (75)\u001b[0m\n",
      "\u001b[35mINFO:__main__:gunicorn server is ready!\u001b[0m\n",
      "\u001b[35m[2022-10-24 07:04:31 +0000] [75] [INFO] Using worker: gevent\u001b[0m\n",
      "\u001b[35m[2022-10-24 07:04:31 +0000] [77] [INFO] Booting worker with pid: 77\u001b[0m\n",
      "\u001b[35mINFO:__main__:nginx version info:\u001b[0m\n",
      "\u001b[35mnginx version: nginx/1.22.0\u001b[0m\n",
      "\u001b[35mbuilt by gcc 9.3.0 (Ubuntu 9.3.0-10ubuntu2) \u001b[0m\n",
      "\u001b[34mbuilt with OpenSSL 1.1.1f  31 Mar 2020\u001b[0m\n",
      "\u001b[34mTLS SNI support enabled\u001b[0m\n",
      "\u001b[34mconfigure arguments: --prefix=/etc/nginx --sbin-path=/usr/sbin/nginx --modules-path=/usr/lib/nginx/modules --conf-path=/etc/nginx/nginx.conf --error-log-path=/var/log/nginx/error.log --http-log-path=/var/log/nginx/access.log --pid-path=/var/run/nginx.pid --lock-path=/var/run/nginx.lock --http-client-body-temp-path=/var/cache/nginx/client_temp --http-proxy-temp-path=/var/cache/nginx/proxy_temp --http-fastcgi-temp-path=/var/cache/nginx/fastcgi_temp --http-uwsgi-temp-path=/var/cache/nginx/uwsgi_temp --http-scgi-temp-path=/var/cache/nginx/scgi_temp --user=nginx --group=nginx --with-compat --with-file-aio --with-threads --with-http_addition_module --with-http_auth_request_module --with-http_dav_module --with-http_flv_module --with-http_gunzip_module --with-http_gzip_static_module --with-http_mp4_module --with-http_random_index_module --with-http_realip_module --with-http_secure_link_module --with-http_slice_module --with-http_ssl_module --with-http_stub_status_module --with-http_sub_module --with-http_v2_module --with-mail --with-mail_ssl_module --with-stream --with-stream_realip_module --with-stream_ssl_module --with-stream_ssl_preread_module --with-cc-opt='-g -O2 -fdebug-prefix-map=/data/builder/debuild/nginx-1.22.0/debian/debuild-base/nginx-1.22.0=. -fstack-protector-strong -Wformat -Werror=format-security -Wp,-D_FORTIFY_SOURCE=2 -fPIC' --with-ld-opt='-Wl,-Bsymbolic-functions -Wl,-z,relro -Wl,-z,now -Wl,--as-needed -pie'\u001b[0m\n",
      "\u001b[34mINFO:__main__:started nginx (pid: 78)\u001b[0m\n",
      "\u001b[34m/usr/local/lib/python3.9/importlib/__init__.py:127: DeprecatedWarning: Call to deprecated function __init__(...). API class may be removed in a future release, use falcon.App instead.\n",
      "  return _bootstrap._gcd_import(name[level:], package, level)\u001b[0m\n",
      "\u001b[34mINFO:python_service:Creating grpc channel for port: 10000\u001b[0m\n",
      "\u001b[34m169.254.255.130 - - [24/Oct/2022:07:04:32 +0000] \"GET /ping HTTP/1.1\" 200 0 \"-\" \"Go-http-client/1.1\"\u001b[0m\n",
      "\u001b[34m169.254.255.130 - - [24/Oct/2022:07:04:32 +0000] \"GET /execution-parameters HTTP/1.1\" 404 22 \"-\" \"Go-http-client/1.1\"\u001b[0m\n",
      "\u001b[34mINFO:tfs_utils:sagemaker tfs attributes: \u001b[0m\n",
      "\u001b[34m{}\u001b[0m\n",
      "\u001b[34m/sagemaker/python_service.py:95: DeprecatedWarning: Call to deprecated property body. Please use text instead.\n",
      "  self._handle_invocation_post(req, res, model_name)\u001b[0m\n",
      "\u001b[34m169.254.255.130 - - [24/Oct/2022:07:04:32 +0000] \"POST /invocations HTTP/1.1\" 200 15025 \"-\" \"Go-http-client/1.1\"\u001b[0m\n",
      "\u001b[35mbuilt with OpenSSL 1.1.1f  31 Mar 2020\u001b[0m\n",
      "\u001b[35mTLS SNI support enabled\u001b[0m\n",
      "\u001b[35mconfigure arguments: --prefix=/etc/nginx --sbin-path=/usr/sbin/nginx --modules-path=/usr/lib/nginx/modules --conf-path=/etc/nginx/nginx.conf --error-log-path=/var/log/nginx/error.log --http-log-path=/var/log/nginx/access.log --pid-path=/var/run/nginx.pid --lock-path=/var/run/nginx.lock --http-client-body-temp-path=/var/cache/nginx/client_temp --http-proxy-temp-path=/var/cache/nginx/proxy_temp --http-fastcgi-temp-path=/var/cache/nginx/fastcgi_temp --http-uwsgi-temp-path=/var/cache/nginx/uwsgi_temp --http-scgi-temp-path=/var/cache/nginx/scgi_temp --user=nginx --group=nginx --with-compat --with-file-aio --with-threads --with-http_addition_module --with-http_auth_request_module --with-http_dav_module --with-http_flv_module --with-http_gunzip_module --with-http_gzip_static_module --with-http_mp4_module --with-http_random_index_module --with-http_realip_module --with-http_secure_link_module --with-http_slice_module --with-http_ssl_module --with-http_stub_status_module --with-http_sub_module --with-http_v2_module --with-mail --with-mail_ssl_module --with-stream --with-stream_realip_module --with-stream_ssl_module --with-stream_ssl_preread_module --with-cc-opt='-g -O2 -fdebug-prefix-map=/data/builder/debuild/nginx-1.22.0/debian/debuild-base/nginx-1.22.0=. -fstack-protector-strong -Wformat -Werror=format-security -Wp,-D_FORTIFY_SOURCE=2 -fPIC' --with-ld-opt='-Wl,-Bsymbolic-functions -Wl,-z,relro -Wl,-z,now -Wl,--as-needed -pie'\u001b[0m\n",
      "\u001b[35mINFO:__main__:started nginx (pid: 78)\u001b[0m\n",
      "\u001b[35m/usr/local/lib/python3.9/importlib/__init__.py:127: DeprecatedWarning: Call to deprecated function __init__(...). API class may be removed in a future release, use falcon.App instead.\n",
      "  return _bootstrap._gcd_import(name[level:], package, level)\u001b[0m\n",
      "\u001b[35mINFO:python_service:Creating grpc channel for port: 10000\u001b[0m\n",
      "\u001b[35m169.254.255.130 - - [24/Oct/2022:07:04:32 +0000] \"GET /ping HTTP/1.1\" 200 0 \"-\" \"Go-http-client/1.1\"\u001b[0m\n",
      "\u001b[35m169.254.255.130 - - [24/Oct/2022:07:04:32 +0000] \"GET /execution-parameters HTTP/1.1\" 404 22 \"-\" \"Go-http-client/1.1\"\u001b[0m\n",
      "\u001b[35mINFO:tfs_utils:sagemaker tfs attributes: \u001b[0m\n",
      "\u001b[35m{}\u001b[0m\n",
      "\u001b[35m/sagemaker/python_service.py:95: DeprecatedWarning: Call to deprecated property body. Please use text instead.\n",
      "  self._handle_invocation_post(req, res, model_name)\u001b[0m\n",
      "\u001b[35m169.254.255.130 - - [24/Oct/2022:07:04:32 +0000] \"POST /invocations HTTP/1.1\" 200 15025 \"-\" \"Go-http-client/1.1\"\u001b[0m\n",
      "\u001b[32m2022-10-24T07:04:32.223:[sagemaker logs]: MaxConcurrentTransforms=1, MaxPayloadInMB=1, BatchStrategy=MULTI_RECORD\u001b[0m\n",
      "\u001b[34mINFO:__main__:PYTHON SERVICE: True\u001b[0m\n",
      "\u001b[34mINFO:__main__:starting services\u001b[0m\n",
      "\u001b[35mINFO:__main__:PYTHON SERVICE: True\u001b[0m\n",
      "\u001b[35mINFO:__main__:starting services\u001b[0m\n",
      "\u001b[34mINFO:__main__:using default model name: model\u001b[0m\n",
      "\u001b[34mINFO:__main__:tensorflow serving model config: \u001b[0m\n",
      "\u001b[34mmodel_config_list: {\n",
      "  config: {\n",
      "    name: 'model'\n",
      "    base_path: '/opt/ml/model'\n",
      "    model_platform: 'tensorflow'\n",
      "    model_version_policy: {\n",
      "      specific: {\n",
      "        versions: 1\n",
      "      }\n",
      "    }\n",
      "  }\u001b[0m\n",
      "\u001b[34m}\u001b[0m\n",
      "\u001b[35mINFO:__main__:using default model name: model\u001b[0m\n",
      "\u001b[35mINFO:__main__:tensorflow serving model config: \u001b[0m\n",
      "\u001b[35mmodel_config_list: {\n",
      "  config: {\n",
      "    name: 'model'\n",
      "    base_path: '/opt/ml/model'\n",
      "    model_platform: 'tensorflow'\n",
      "    model_version_policy: {\n",
      "      specific: {\n",
      "        versions: 1\n",
      "      }\n",
      "    }\n",
      "  }\u001b[0m\n",
      "\u001b[35m}\u001b[0m\n",
      "\u001b[34mINFO:__main__:tensorflow version info:\u001b[0m\n",
      "\u001b[34mTensorFlow ModelServer: 2.8.3-rc1+dev.sha.no_git\u001b[0m\n",
      "\u001b[35mINFO:__main__:tensorflow version info:\u001b[0m\n",
      "\u001b[35mTensorFlow ModelServer: 2.8.3-rc1+dev.sha.no_git\u001b[0m\n",
      "\u001b[34mTensorFlow Library: 2.8.3\u001b[0m\n",
      "\u001b[34mINFO:__main__:tensorflow serving command: tensorflow_model_server --port=10000 --rest_api_port=10001 --model_config_file=/sagemaker/model-config.cfg --max_num_load_retries=0    \u001b[0m\n",
      "\u001b[34mINFO:__main__:started tensorflow serving (pid: 14)\u001b[0m\n",
      "\u001b[34mINFO:tfs_utils:Trying to connect with model server: http://localhost:10001/v1/models/model\u001b[0m\n",
      "\u001b[34mWARNING:urllib3.connectionpool:Retrying (Retry(total=8, connect=None, read=None, redirect=None, status=None)) after connection broken by 'NewConnectionError('<urllib3.connection.HTTPConnection object at 0x7f6485ee0850>: Failed to establish a new connection: [Errno 111] Connection refused')': /v1/models/model\u001b[0m\n",
      "\u001b[34m2022-10-24 07:04:19.547363: I tensorflow_serving/model_servers/server_core.cc:465] Adding/updating models.\u001b[0m\n",
      "\u001b[34m2022-10-24 07:04:19.547458: I tensorflow_serving/model_servers/server_core.cc:594]  (Re-)adding model: model\u001b[0m\n",
      "\u001b[34m2022-10-24 07:04:19.649000: I tensorflow_serving/util/retrier.cc:46] Retrying of Reserving resources for servable: {name: model version: 1} exhausted max_num_retries: 0\u001b[0m\n",
      "\u001b[34m2022-10-24 07:04:19.649064: I tensorflow_serving/core/basic_manager.cc:740] Successfully reserved resources to load servable {name: model version: 1}\u001b[0m\n",
      "\u001b[34m2022-10-24 07:04:19.649082: I tensorflow_serving/core/loader_harness.cc:66] Approving load for servable version {name: model version: 1}\u001b[0m\n",
      "\u001b[34m2022-10-24 07:04:19.649099: I tensorflow_serving/core/loader_harness.cc:74] Loading servable version {name: model version: 1}\u001b[0m\n",
      "\u001b[34m2022-10-24 07:04:19.649158: I external/org_tensorflow/tensorflow/cc/saved_model/reader.cc:43] Reading SavedModel from: /opt/ml/model/00001\u001b[0m\n",
      "\u001b[34m2022-10-24 07:04:19.652123: I external/org_tensorflow/tensorflow/cc/saved_model/reader.cc:78] Reading meta graph with tags { serve }\u001b[0m\n",
      "\u001b[34m2022-10-24 07:04:19.652168: I external/org_tensorflow/tensorflow/cc/saved_model/reader.cc:119] Reading SavedModel debug info (if present) from: /opt/ml/model/00001\u001b[0m\n",
      "\u001b[34m2022-10-24 07:04:19.652283: I external/org_tensorflow/tensorflow/core/platform/cpu_feature_guard.cc:151] This TensorFlow binary is optimized with oneAPI Deep Neural Network Library (oneDNN) to use the following CPU instructions in performance-critical operations:  AVX2 FMA\u001b[0m\n",
      "\u001b[34mTo enable them in other operations, rebuild TensorFlow with the appropriate compiler flags.\u001b[0m\n",
      "\u001b[34mWARNING:urllib3.connectionpool:Retrying (Retry(total=7, connect=None, read=None, redirect=None, status=None)) after connection broken by 'NewConnectionError('<urllib3.connection.HTTPConnection object at 0x7f6485ee0c40>: Failed to establish a new connection: [Errno 111] Connection refused')': /v1/models/model\u001b[0m\n",
      "\u001b[34m2022-10-24 07:04:19.709819: I external/org_tensorflow/tensorflow/cc/saved_model/loader.cc:228] Restoring SavedModel bundle.\u001b[0m\n",
      "\u001b[35mTensorFlow Library: 2.8.3\u001b[0m\n",
      "\u001b[35mINFO:__main__:tensorflow serving command: tensorflow_model_server --port=10000 --rest_api_port=10001 --model_config_file=/sagemaker/model-config.cfg --max_num_load_retries=0    \u001b[0m\n",
      "\u001b[35mINFO:__main__:started tensorflow serving (pid: 14)\u001b[0m\n",
      "\u001b[35mINFO:tfs_utils:Trying to connect with model server: http://localhost:10001/v1/models/model\u001b[0m\n",
      "\u001b[35mWARNING:urllib3.connectionpool:Retrying (Retry(total=8, connect=None, read=None, redirect=None, status=None)) after connection broken by 'NewConnectionError('<urllib3.connection.HTTPConnection object at 0x7f6485ee0850>: Failed to establish a new connection: [Errno 111] Connection refused')': /v1/models/model\u001b[0m\n",
      "\u001b[35m2022-10-24 07:04:19.547363: I tensorflow_serving/model_servers/server_core.cc:465] Adding/updating models.\u001b[0m\n",
      "\u001b[35m2022-10-24 07:04:19.547458: I tensorflow_serving/model_servers/server_core.cc:594]  (Re-)adding model: model\u001b[0m\n",
      "\u001b[35m2022-10-24 07:04:19.649000: I tensorflow_serving/util/retrier.cc:46] Retrying of Reserving resources for servable: {name: model version: 1} exhausted max_num_retries: 0\u001b[0m\n",
      "\u001b[35m2022-10-24 07:04:19.649064: I tensorflow_serving/core/basic_manager.cc:740] Successfully reserved resources to load servable {name: model version: 1}\u001b[0m\n",
      "\u001b[35m2022-10-24 07:04:19.649082: I tensorflow_serving/core/loader_harness.cc:66] Approving load for servable version {name: model version: 1}\u001b[0m\n",
      "\u001b[35m2022-10-24 07:04:19.649099: I tensorflow_serving/core/loader_harness.cc:74] Loading servable version {name: model version: 1}\u001b[0m\n",
      "\u001b[35m2022-10-24 07:04:19.649158: I external/org_tensorflow/tensorflow/cc/saved_model/reader.cc:43] Reading SavedModel from: /opt/ml/model/00001\u001b[0m\n",
      "\u001b[35m2022-10-24 07:04:19.652123: I external/org_tensorflow/tensorflow/cc/saved_model/reader.cc:78] Reading meta graph with tags { serve }\u001b[0m\n",
      "\u001b[35m2022-10-24 07:04:19.652168: I external/org_tensorflow/tensorflow/cc/saved_model/reader.cc:119] Reading SavedModel debug info (if present) from: /opt/ml/model/00001\u001b[0m\n",
      "\u001b[35m2022-10-24 07:04:19.652283: I external/org_tensorflow/tensorflow/core/platform/cpu_feature_guard.cc:151] This TensorFlow binary is optimized with oneAPI Deep Neural Network Library (oneDNN) to use the following CPU instructions in performance-critical operations:  AVX2 FMA\u001b[0m\n",
      "\u001b[35mTo enable them in other operations, rebuild TensorFlow with the appropriate compiler flags.\u001b[0m\n",
      "\u001b[35mWARNING:urllib3.connectionpool:Retrying (Retry(total=7, connect=None, read=None, redirect=None, status=None)) after connection broken by 'NewConnectionError('<urllib3.connection.HTTPConnection object at 0x7f6485ee0c40>: Failed to establish a new connection: [Errno 111] Connection refused')': /v1/models/model\u001b[0m\n",
      "\u001b[35m2022-10-24 07:04:19.709819: I external/org_tensorflow/tensorflow/cc/saved_model/loader.cc:228] Restoring SavedModel bundle.\u001b[0m\n",
      "\u001b[34m2022-10-24 07:04:19.774597: I external/org_tensorflow/tensorflow/cc/saved_model/loader.cc:212] Running initialization op on SavedModel bundle at path: /opt/ml/model/00001\u001b[0m\n",
      "\u001b[34m2022-10-24 07:04:19.788950: I external/org_tensorflow/tensorflow/cc/saved_model/loader.cc:301] SavedModel load for tags { serve }; Status: success: OK. Took 139770 microseconds.\u001b[0m\n",
      "\u001b[34m2022-10-24 07:04:19.789705: I tensorflow_serving/servables/tensorflow/saved_model_warmup_util.cc:59] No warmup data file found at /opt/ml/model/00001/assets.extra/tf_serving_warmup_requests\u001b[0m\n",
      "\u001b[34m2022-10-24 07:04:19.790212: I tensorflow_serving/util/retrier.cc:46] Retrying of Loading servable: {name: model version: 1} exhausted max_num_retries: 0\u001b[0m\n",
      "\u001b[34m2022-10-24 07:04:19.790238: I tensorflow_serving/core/loader_harness.cc:87] Successfully loaded servable version {name: model version: 1}\u001b[0m\n",
      "\u001b[34m2022-10-24 07:04:19.791507: I tensorflow_serving/model_servers/server_core.cc:486] Finished adding/updating models\u001b[0m\n",
      "\u001b[34m2022-10-24 07:04:19.791741: I tensorflow_serving/model_servers/server.cc:133] Using InsecureServerCredentials\u001b[0m\n",
      "\u001b[34m2022-10-24 07:04:19.791809: I tensorflow_serving/model_servers/server.cc:391] Profiler service is enabled\u001b[0m\n",
      "\u001b[34m2022-10-24 07:04:19.792664: I tensorflow_serving/model_servers/server.cc:417] Running gRPC ModelServer at 0.0.0.0:10000 ...\u001b[0m\n",
      "\u001b[34m[warn] getaddrinfo: address family for nodename not supported\u001b[0m\n",
      "\u001b[34m2022-10-24 07:04:19.794291: I tensorflow_serving/model_servers/server.cc:438] Exporting HTTP/REST API at:localhost:10001 ...\u001b[0m\n",
      "\u001b[34m[evhttp_server.cc : 245] NET_LOG: Entering the event loop ...\u001b[0m\n",
      "\u001b[34mWARNING:urllib3.connectionpool:Retrying (Retry(total=6, connect=None, read=None, redirect=None, status=None)) after connection broken by 'NewConnectionError('<urllib3.connection.HTTPConnection object at 0x7f6485ee0a00>: Failed to establish a new connection: [Errno 111] Connection refused')': /v1/models/model\u001b[0m\n",
      "\u001b[34mINFO:tfs_utils:<Response [200]>\u001b[0m\n",
      "\u001b[34mINFO:tfs_utils:model: http://localhost:10001/v1/models/model is available now\u001b[0m\n",
      "\u001b[34mINFO:__main__:nginx config: \u001b[0m\n",
      "\u001b[34mload_module modules/ngx_http_js_module.so;\u001b[0m\n",
      "\u001b[34mworker_processes auto;\u001b[0m\n",
      "\u001b[35m2022-10-24 07:04:19.774597: I external/org_tensorflow/tensorflow/cc/saved_model/loader.cc:212] Running initialization op on SavedModel bundle at path: /opt/ml/model/00001\u001b[0m\n",
      "\u001b[35m2022-10-24 07:04:19.788950: I external/org_tensorflow/tensorflow/cc/saved_model/loader.cc:301] SavedModel load for tags { serve }; Status: success: OK. Took 139770 microseconds.\u001b[0m\n",
      "\u001b[35m2022-10-24 07:04:19.789705: I tensorflow_serving/servables/tensorflow/saved_model_warmup_util.cc:59] No warmup data file found at /opt/ml/model/00001/assets.extra/tf_serving_warmup_requests\u001b[0m\n",
      "\u001b[35m2022-10-24 07:04:19.790212: I tensorflow_serving/util/retrier.cc:46] Retrying of Loading servable: {name: model version: 1} exhausted max_num_retries: 0\u001b[0m\n",
      "\u001b[35m2022-10-24 07:04:19.790238: I tensorflow_serving/core/loader_harness.cc:87] Successfully loaded servable version {name: model version: 1}\u001b[0m\n",
      "\u001b[35m2022-10-24 07:04:19.791507: I tensorflow_serving/model_servers/server_core.cc:486] Finished adding/updating models\u001b[0m\n",
      "\u001b[35m2022-10-24 07:04:19.791741: I tensorflow_serving/model_servers/server.cc:133] Using InsecureServerCredentials\u001b[0m\n",
      "\u001b[35m2022-10-24 07:04:19.791809: I tensorflow_serving/model_servers/server.cc:391] Profiler service is enabled\u001b[0m\n",
      "\u001b[35m2022-10-24 07:04:19.792664: I tensorflow_serving/model_servers/server.cc:417] Running gRPC ModelServer at 0.0.0.0:10000 ...\u001b[0m\n",
      "\u001b[35m[warn] getaddrinfo: address family for nodename not supported\u001b[0m\n",
      "\u001b[35m2022-10-24 07:04:19.794291: I tensorflow_serving/model_servers/server.cc:438] Exporting HTTP/REST API at:localhost:10001 ...\u001b[0m\n",
      "\u001b[35m[evhttp_server.cc : 245] NET_LOG: Entering the event loop ...\u001b[0m\n",
      "\u001b[35mWARNING:urllib3.connectionpool:Retrying (Retry(total=6, connect=None, read=None, redirect=None, status=None)) after connection broken by 'NewConnectionError('<urllib3.connection.HTTPConnection object at 0x7f6485ee0a00>: Failed to establish a new connection: [Errno 111] Connection refused')': /v1/models/model\u001b[0m\n",
      "\u001b[35mINFO:tfs_utils:<Response [200]>\u001b[0m\n",
      "\u001b[35mINFO:tfs_utils:model: http://localhost:10001/v1/models/model is available now\u001b[0m\n",
      "\u001b[35mINFO:__main__:nginx config: \u001b[0m\n",
      "\u001b[35mload_module modules/ngx_http_js_module.so;\u001b[0m\n",
      "\u001b[35mworker_processes auto;\u001b[0m\n",
      "\u001b[34mdaemon off;\u001b[0m\n",
      "\u001b[34mpid /tmp/nginx.pid;\u001b[0m\n",
      "\u001b[34merror_log  /dev/stderr error;\u001b[0m\n",
      "\u001b[34mworker_rlimit_nofile 4096;\u001b[0m\n",
      "\u001b[34mevents {\n",
      "  worker_connections 2048;\u001b[0m\n",
      "\u001b[34m}\u001b[0m\n",
      "\u001b[35mdaemon off;\u001b[0m\n",
      "\u001b[35mpid /tmp/nginx.pid;\u001b[0m\n",
      "\u001b[35merror_log  /dev/stderr error;\u001b[0m\n",
      "\u001b[35mworker_rlimit_nofile 4096;\u001b[0m\n",
      "\u001b[35mevents {\n",
      "  worker_connections 2048;\u001b[0m\n",
      "\u001b[35m}\u001b[0m\n",
      "\u001b[34mhttp {\n",
      "  include /etc/nginx/mime.types;\n",
      "  default_type application/json;\n",
      "  access_log /dev/stdout combined;\n",
      "  js_import tensorflowServing.js;\n",
      "  proxy_read_timeout 60;  \n",
      "  upstream tfs_upstream {\n",
      "    server localhost:10001;\n",
      "  }\n",
      "  upstream gunicorn_upstream {\n",
      "    server unix:/tmp/gunicorn.sock fail_timeout=1;\n",
      "  }\n",
      "  server {\n",
      "    listen 8080 deferred;\n",
      "    client_max_body_size 0;\n",
      "    client_body_buffer_size 100m;\n",
      "    subrequest_output_buffer_size 100m;\n",
      "    set $tfs_version 2.8;\n",
      "    set $default_tfs_model model;\n",
      "    location /tfs {\n",
      "        rewrite ^/tfs/(.*) /$1  break;\n",
      "        proxy_redirect off;\n",
      "        proxy_pass_request_headers off;\n",
      "        proxy_set_header Content-Type 'application/json';\n",
      "        proxy_set_header Accept 'application/json';\n",
      "        proxy_pass http://tfs_upstream;\n",
      "    }\n",
      "    location /ping {\n",
      "        proxy_pass http://gunicorn_upstream/ping;\n",
      "    }\n",
      "    location /invocations {\n",
      "        proxy_pass http://gunicorn_upstream/invocations;\n",
      "    }\n",
      "    location /models {\n",
      "        proxy_pass http://gunicorn_upstream/models;\n",
      "    }\n",
      "    location / {\n",
      "        return 404 '{\"error\": \"Not Found\"}';\n",
      "    }\n",
      "    keepalive_timeout 3;\n",
      "  }\u001b[0m\n",
      "\u001b[34m}\n",
      "  \u001b[0m\n",
      "\u001b[34mINFO:__main__:installing packages from requirements.txt...\u001b[0m\n",
      "\u001b[35mhttp {\n",
      "  include /etc/nginx/mime.types;\n",
      "  default_type application/json;\n",
      "  access_log /dev/stdout combined;\n",
      "  js_import tensorflowServing.js;\n",
      "  proxy_read_timeout 60;  \n",
      "  upstream tfs_upstream {\n",
      "    server localhost:10001;\n",
      "  }\n",
      "  upstream gunicorn_upstream {\n",
      "    server unix:/tmp/gunicorn.sock fail_timeout=1;\n",
      "  }\n",
      "  server {\n",
      "    listen 8080 deferred;\n",
      "    client_max_body_size 0;\n",
      "    client_body_buffer_size 100m;\n",
      "    subrequest_output_buffer_size 100m;\n",
      "    set $tfs_version 2.8;\n",
      "    set $default_tfs_model model;\n",
      "    location /tfs {\n",
      "        rewrite ^/tfs/(.*) /$1  break;\n",
      "        proxy_redirect off;\n",
      "        proxy_pass_request_headers off;\n",
      "        proxy_set_header Content-Type 'application/json';\n",
      "        proxy_set_header Accept 'application/json';\n",
      "        proxy_pass http://tfs_upstream;\n",
      "    }\n",
      "    location /ping {\n",
      "        proxy_pass http://gunicorn_upstream/ping;\n",
      "    }\n",
      "    location /invocations {\n",
      "        proxy_pass http://gunicorn_upstream/invocations;\n",
      "    }\n",
      "    location /models {\n",
      "        proxy_pass http://gunicorn_upstream/models;\n",
      "    }\n",
      "    location / {\n",
      "        return 404 '{\"error\": \"Not Found\"}';\n",
      "    }\n",
      "    keepalive_timeout 3;\n",
      "  }\u001b[0m\n",
      "\u001b[35m}\n",
      "  \u001b[0m\n",
      "\u001b[35mINFO:__main__:installing packages from requirements.txt...\u001b[0m\n",
      "\u001b[34mCollecting numpy\n",
      "  Downloading numpy-1.23.4-cp39-cp39-manylinux_2_17_x86_64.manylinux2014_x86_64.whl (17.1 MB)\n",
      "     ━━━━━━━━━━━━━━━━━━━━━━━━━━━━━━━━━━━━━━━━ 17.1/17.1 MB 56.8 MB/s eta 0:00:00\u001b[0m\n",
      "\u001b[34mCollecting pandas\n",
      "  Downloading pandas-1.5.1-cp39-cp39-manylinux_2_17_x86_64.manylinux2014_x86_64.whl (12.2 MB)\u001b[0m\n",
      "\u001b[35mCollecting numpy\n",
      "  Downloading numpy-1.23.4-cp39-cp39-manylinux_2_17_x86_64.manylinux2014_x86_64.whl (17.1 MB)\n",
      "     ━━━━━━━━━━━━━━━━━━━━━━━━━━━━━━━━━━━━━━━━ 17.1/17.1 MB 56.8 MB/s eta 0:00:00\u001b[0m\n",
      "\u001b[35mCollecting pandas\n",
      "  Downloading pandas-1.5.1-cp39-cp39-manylinux_2_17_x86_64.manylinux2014_x86_64.whl (12.2 MB)\u001b[0m\n",
      "\u001b[34m     ━━━━━━━━━━━━━━━━━━━━━━━━━━━━━━━━━━━━━━━━ 12.2/12.2 MB 64.3 MB/s eta 0:00:00\u001b[0m\n",
      "\u001b[34mCollecting pytz>=2020.1\n",
      "  Downloading pytz-2022.5-py2.py3-none-any.whl (500 kB)\n",
      "     ━━━━━━━━━━━━━━━━━━━━━━━━━━━━━━━━━━━━━━ 500.7/500.7 kB 40.7 MB/s eta 0:00:00\u001b[0m\n",
      "\u001b[35m     ━━━━━━━━━━━━━━━━━━━━━━━━━━━━━━━━━━━━━━━━ 12.2/12.2 MB 64.3 MB/s eta 0:00:00\u001b[0m\n",
      "\u001b[35mCollecting pytz>=2020.1\n",
      "  Downloading pytz-2022.5-py2.py3-none-any.whl (500 kB)\n",
      "     ━━━━━━━━━━━━━━━━━━━━━━━━━━━━━━━━━━━━━━ 500.7/500.7 kB 40.7 MB/s eta 0:00:00\u001b[0m\n",
      "\u001b[34mRequirement already satisfied: python-dateutil>=2.8.1 in /usr/local/lib/python3.9/site-packages (from pandas->-r /opt/ml/model/code/requirements.txt (line 5)) (2.8.2)\u001b[0m\n",
      "\u001b[34mRequirement already satisfied: six>=1.5 in /usr/local/lib/python3.9/site-packages (from python-dateutil>=2.8.1->pandas->-r /opt/ml/model/code/requirements.txt (line 5)) (1.16.0)\u001b[0m\n",
      "\u001b[34mInstalling collected packages: pytz, numpy, pandas\u001b[0m\n",
      "\u001b[35mRequirement already satisfied: python-dateutil>=2.8.1 in /usr/local/lib/python3.9/site-packages (from pandas->-r /opt/ml/model/code/requirements.txt (line 5)) (2.8.2)\u001b[0m\n",
      "\u001b[35mRequirement already satisfied: six>=1.5 in /usr/local/lib/python3.9/site-packages (from python-dateutil>=2.8.1->pandas->-r /opt/ml/model/code/requirements.txt (line 5)) (1.16.0)\u001b[0m\n",
      "\u001b[35mInstalling collected packages: pytz, numpy, pandas\u001b[0m\n",
      "\u001b[34mSuccessfully installed numpy-1.23.4 pandas-1.5.1 pytz-2022.5\u001b[0m\n",
      "\u001b[34mWARNING: Running pip as the 'root' user can result in broken permissions and conflicting behaviour with the system package manager. It is recommended to use a virtual environment instead: https://pip.pypa.io/warnings/venv\u001b[0m\n",
      "\u001b[35mSuccessfully installed numpy-1.23.4 pandas-1.5.1 pytz-2022.5\u001b[0m\n",
      "\u001b[35mWARNING: Running pip as the 'root' user can result in broken permissions and conflicting behaviour with the system package manager. It is recommended to use a virtual environment instead: https://pip.pypa.io/warnings/venv\u001b[0m\n",
      "\u001b[34m[notice] A new release of pip available: 22.2.2 -> 22.3\u001b[0m\n",
      "\u001b[34m[notice] To update, run: pip install --upgrade pip\u001b[0m\n",
      "\u001b[34mINFO:__main__:gunicorn command: gunicorn -b unix:/tmp/gunicorn.sock -k gevent --chdir /sagemaker --workers 1 --threads 1 --log-level info --timeout 30 --pythonpath /opt/ml/model/code -e TFS_GRPC_PORTS=10000 -e TFS_REST_PORTS=10001 -e SAGEMAKER_MULTI_MODEL=False -e SAGEMAKER_SAFE_PORT_RANGE=10000-10999 -e SAGEMAKER_TFS_WAIT_TIME_SECONDS=300 python_service:app\u001b[0m\n",
      "\u001b[34mINFO:__main__:gunicorn version info:\u001b[0m\n",
      "\u001b[34mgunicorn (version 20.1.0)\u001b[0m\n",
      "\u001b[34mINFO:__main__:started gunicorn (pid: 75)\u001b[0m\n",
      "\u001b[35m[notice] A new release of pip available: 22.2.2 -> 22.3\u001b[0m\n",
      "\u001b[35m[notice] To update, run: pip install --upgrade pip\u001b[0m\n",
      "\u001b[35mINFO:__main__:gunicorn command: gunicorn -b unix:/tmp/gunicorn.sock -k gevent --chdir /sagemaker --workers 1 --threads 1 --log-level info --timeout 30 --pythonpath /opt/ml/model/code -e TFS_GRPC_PORTS=10000 -e TFS_REST_PORTS=10001 -e SAGEMAKER_MULTI_MODEL=False -e SAGEMAKER_SAFE_PORT_RANGE=10000-10999 -e SAGEMAKER_TFS_WAIT_TIME_SECONDS=300 python_service:app\u001b[0m\n",
      "\u001b[35mINFO:__main__:gunicorn version info:\u001b[0m\n",
      "\u001b[35mgunicorn (version 20.1.0)\u001b[0m\n",
      "\u001b[35mINFO:__main__:started gunicorn (pid: 75)\u001b[0m\n",
      "\u001b[34m[2022-10-24 07:04:31 +0000] [75] [INFO] Starting gunicorn 20.1.0\u001b[0m\n",
      "\u001b[34m[2022-10-24 07:04:31 +0000] [75] [INFO] Listening at: unix:/tmp/gunicorn.sock (75)\u001b[0m\n",
      "\u001b[34mINFO:__main__:gunicorn server is ready!\u001b[0m\n",
      "\u001b[34m[2022-10-24 07:04:31 +0000] [75] [INFO] Using worker: gevent\u001b[0m\n",
      "\u001b[34m[2022-10-24 07:04:31 +0000] [77] [INFO] Booting worker with pid: 77\u001b[0m\n",
      "\u001b[34mINFO:__main__:nginx version info:\u001b[0m\n",
      "\u001b[34mnginx version: nginx/1.22.0\u001b[0m\n",
      "\u001b[34mbuilt by gcc 9.3.0 (Ubuntu 9.3.0-10ubuntu2) \u001b[0m\n",
      "\u001b[35m[2022-10-24 07:04:31 +0000] [75] [INFO] Starting gunicorn 20.1.0\u001b[0m\n",
      "\u001b[35m[2022-10-24 07:04:31 +0000] [75] [INFO] Listening at: unix:/tmp/gunicorn.sock (75)\u001b[0m\n",
      "\u001b[35mINFO:__main__:gunicorn server is ready!\u001b[0m\n",
      "\u001b[35m[2022-10-24 07:04:31 +0000] [75] [INFO] Using worker: gevent\u001b[0m\n",
      "\u001b[35m[2022-10-24 07:04:31 +0000] [77] [INFO] Booting worker with pid: 77\u001b[0m\n",
      "\u001b[35mINFO:__main__:nginx version info:\u001b[0m\n",
      "\u001b[35mnginx version: nginx/1.22.0\u001b[0m\n",
      "\u001b[35mbuilt by gcc 9.3.0 (Ubuntu 9.3.0-10ubuntu2) \u001b[0m\n",
      "\u001b[34mbuilt with OpenSSL 1.1.1f  31 Mar 2020\u001b[0m\n",
      "\u001b[34mTLS SNI support enabled\u001b[0m\n",
      "\u001b[34mconfigure arguments: --prefix=/etc/nginx --sbin-path=/usr/sbin/nginx --modules-path=/usr/lib/nginx/modules --conf-path=/etc/nginx/nginx.conf --error-log-path=/var/log/nginx/error.log --http-log-path=/var/log/nginx/access.log --pid-path=/var/run/nginx.pid --lock-path=/var/run/nginx.lock --http-client-body-temp-path=/var/cache/nginx/client_temp --http-proxy-temp-path=/var/cache/nginx/proxy_temp --http-fastcgi-temp-path=/var/cache/nginx/fastcgi_temp --http-uwsgi-temp-path=/var/cache/nginx/uwsgi_temp --http-scgi-temp-path=/var/cache/nginx/scgi_temp --user=nginx --group=nginx --with-compat --with-file-aio --with-threads --with-http_addition_module --with-http_auth_request_module --with-http_dav_module --with-http_flv_module --with-http_gunzip_module --with-http_gzip_static_module --with-http_mp4_module --with-http_random_index_module --with-http_realip_module --with-http_secure_link_module --with-http_slice_module --with-http_ssl_module --with-http_stub_status_module --with-http_sub_module --with-http_v2_module --with-mail --with-mail_ssl_module --with-stream --with-stream_realip_module --with-stream_ssl_module --with-stream_ssl_preread_module --with-cc-opt='-g -O2 -fdebug-prefix-map=/data/builder/debuild/nginx-1.22.0/debian/debuild-base/nginx-1.22.0=. -fstack-protector-strong -Wformat -Werror=format-security -Wp,-D_FORTIFY_SOURCE=2 -fPIC' --with-ld-opt='-Wl,-Bsymbolic-functions -Wl,-z,relro -Wl,-z,now -Wl,--as-needed -pie'\u001b[0m\n",
      "\u001b[34mINFO:__main__:started nginx (pid: 78)\u001b[0m\n",
      "\u001b[34m/usr/local/lib/python3.9/importlib/__init__.py:127: DeprecatedWarning: Call to deprecated function __init__(...). API class may be removed in a future release, use falcon.App instead.\n",
      "  return _bootstrap._gcd_import(name[level:], package, level)\u001b[0m\n",
      "\u001b[34mINFO:python_service:Creating grpc channel for port: 10000\u001b[0m\n",
      "\u001b[34m169.254.255.130 - - [24/Oct/2022:07:04:32 +0000] \"GET /ping HTTP/1.1\" 200 0 \"-\" \"Go-http-client/1.1\"\u001b[0m\n",
      "\u001b[34m169.254.255.130 - - [24/Oct/2022:07:04:32 +0000] \"GET /execution-parameters HTTP/1.1\" 404 22 \"-\" \"Go-http-client/1.1\"\u001b[0m\n",
      "\u001b[34mINFO:tfs_utils:sagemaker tfs attributes: \u001b[0m\n",
      "\u001b[34m{}\u001b[0m\n",
      "\u001b[34m/sagemaker/python_service.py:95: DeprecatedWarning: Call to deprecated property body. Please use text instead.\n",
      "  self._handle_invocation_post(req, res, model_name)\u001b[0m\n",
      "\u001b[34m169.254.255.130 - - [24/Oct/2022:07:04:32 +0000] \"POST /invocations HTTP/1.1\" 200 15025 \"-\" \"Go-http-client/1.1\"\u001b[0m\n",
      "\u001b[35mbuilt with OpenSSL 1.1.1f  31 Mar 2020\u001b[0m\n",
      "\u001b[35mTLS SNI support enabled\u001b[0m\n",
      "\u001b[35mconfigure arguments: --prefix=/etc/nginx --sbin-path=/usr/sbin/nginx --modules-path=/usr/lib/nginx/modules --conf-path=/etc/nginx/nginx.conf --error-log-path=/var/log/nginx/error.log --http-log-path=/var/log/nginx/access.log --pid-path=/var/run/nginx.pid --lock-path=/var/run/nginx.lock --http-client-body-temp-path=/var/cache/nginx/client_temp --http-proxy-temp-path=/var/cache/nginx/proxy_temp --http-fastcgi-temp-path=/var/cache/nginx/fastcgi_temp --http-uwsgi-temp-path=/var/cache/nginx/uwsgi_temp --http-scgi-temp-path=/var/cache/nginx/scgi_temp --user=nginx --group=nginx --with-compat --with-file-aio --with-threads --with-http_addition_module --with-http_auth_request_module --with-http_dav_module --with-http_flv_module --with-http_gunzip_module --with-http_gzip_static_module --with-http_mp4_module --with-http_random_index_module --with-http_realip_module --with-http_secure_link_module --with-http_slice_module --with-http_ssl_module --with-http_stub_status_module --with-http_sub_module --with-http_v2_module --with-mail --with-mail_ssl_module --with-stream --with-stream_realip_module --with-stream_ssl_module --with-stream_ssl_preread_module --with-cc-opt='-g -O2 -fdebug-prefix-map=/data/builder/debuild/nginx-1.22.0/debian/debuild-base/nginx-1.22.0=. -fstack-protector-strong -Wformat -Werror=format-security -Wp,-D_FORTIFY_SOURCE=2 -fPIC' --with-ld-opt='-Wl,-Bsymbolic-functions -Wl,-z,relro -Wl,-z,now -Wl,--as-needed -pie'\u001b[0m\n",
      "\u001b[35mINFO:__main__:started nginx (pid: 78)\u001b[0m\n",
      "\u001b[35m/usr/local/lib/python3.9/importlib/__init__.py:127: DeprecatedWarning: Call to deprecated function __init__(...). API class may be removed in a future release, use falcon.App instead.\n",
      "  return _bootstrap._gcd_import(name[level:], package, level)\u001b[0m\n",
      "\u001b[35mINFO:python_service:Creating grpc channel for port: 10000\u001b[0m\n",
      "\u001b[35m169.254.255.130 - - [24/Oct/2022:07:04:32 +0000] \"GET /ping HTTP/1.1\" 200 0 \"-\" \"Go-http-client/1.1\"\u001b[0m\n",
      "\u001b[35m169.254.255.130 - - [24/Oct/2022:07:04:32 +0000] \"GET /execution-parameters HTTP/1.1\" 404 22 \"-\" \"Go-http-client/1.1\"\u001b[0m\n",
      "\u001b[35mINFO:tfs_utils:sagemaker tfs attributes: \u001b[0m\n",
      "\u001b[35m{}\u001b[0m\n",
      "\u001b[35m/sagemaker/python_service.py:95: DeprecatedWarning: Call to deprecated property body. Please use text instead.\n",
      "  self._handle_invocation_post(req, res, model_name)\u001b[0m\n",
      "\u001b[35m169.254.255.130 - - [24/Oct/2022:07:04:32 +0000] \"POST /invocations HTTP/1.1\" 200 15025 \"-\" \"Go-http-client/1.1\"\u001b[0m\n",
      "\u001b[32m2022-10-24T07:04:32.223:[sagemaker logs]: MaxConcurrentTransforms=1, MaxPayloadInMB=1, BatchStrategy=MULTI_RECORD\u001b[0m\n"
     ]
    }
   ],
   "source": [
    "transformer.transform(data=input_data_path, content_type = 'text/csv')\n",
    "transformer.wait()"
   ]
  },
  {
   "cell_type": "code",
   "execution_count": 699,
   "metadata": {},
   "outputs": [],
   "source": [
    "!aws s3 cp --quiet --recursive $transformer.output_path ./test_predictions"
   ]
  },
  {
   "cell_type": "code",
   "execution_count": 700,
   "metadata": {},
   "outputs": [],
   "source": [
    "preds = pd.DataFrame([v[0] for v in json.load(open('./test_predictions/validation.csv.out'))['predictions']])\n",
    "preds['pred'] = np.round(preds[0]).astype(int)\n",
    "\n",
    "ground_truth = pd.read_csv('./data/processed/csv/validation/validation.csv')\n",
    "preds = pd.concat([ground_truth,preds],axis=1)"
   ]
  },
  {
   "cell_type": "code",
   "execution_count": 701,
   "metadata": {},
   "outputs": [],
   "source": [
    "preds['accuracy'] = preds.apply(lambda x: 1 if x['is_orange']==x['pred'] else 0,axis=1)"
   ]
  },
  {
   "cell_type": "code",
   "execution_count": 702,
   "metadata": {},
   "outputs": [
    {
     "data": {
      "text/plain": [
       "931"
      ]
     },
     "execution_count": 702,
     "metadata": {},
     "output_type": "execute_result"
    }
   ],
   "source": [
    "sum(preds['accuracy'])"
   ]
  },
  {
   "cell_type": "code",
   "execution_count": 703,
   "metadata": {},
   "outputs": [
    {
     "data": {
      "text/plain": [
       "Text(0.5, 1.0, 'Confusion Matrix')"
      ]
     },
     "execution_count": 703,
     "metadata": {},
     "output_type": "execute_result"
    },
    {
     "data": {
      "image/png": "[encoded data removed]",
      "text/plain": [
       "<Figure size 432x288 with 2 Axes>"
      ]
     },
     "metadata": {
      "image/png": {
       "height": 277,
       "width": 362
      },
      "needs_background": "light"
     },
     "output_type": "display_data"
    }
   ],
   "source": [
    "confusion_matrix = pd.crosstab(\n",
    "    preds['is_orange'],\n",
    "    preds['pred'],\n",
    "    rownames=['Actuals'],\n",
    "    colnames=['Predictions'],\n",
    "    normalize='index',\n",
    ")\n",
    "sns.heatmap(confusion_matrix, annot = True, fmt = '.8f', cmap = 'YlGnBu').set_title('Confusion Matrix')"
   ]
  },
  {
   "cell_type": "code",
   "execution_count": 982,
   "metadata": {
    "tags": []
   },
   "outputs": [
    {
     "name": "stderr",
     "output_type": "stream",
     "text": [
      "WARNING:sagemaker.deprecations:update_endpoint is a no-op in sagemaker>=2.\n",
      "See: https://sagemaker.readthedocs.io/en/stable/v2.html for details.\n"
     ]
    },
    {
     "name": "stdout",
     "output_type": "stream",
     "text": [
      "------!CPU times: user 221 ms, sys: 55.5 ms, total: 277 ms\n",
      "Wall time: 3min 3s\n"
     ]
    }
   ],
   "source": [
    "%%time\n",
    "\n",
    "endpoint_name = 'nba-sexy-endpoint'\n",
    "\n",
    "predictor = estimator.deploy(\n",
    "    initial_instance_count = 1,\n",
    "    instance_type = 'ml.m4.xlarge',\n",
    "    endpoint_name = endpoint_name,\n",
    "    update_endpoint = None\n",
    "    #accelerator_type = 'ml.eia1.medium' # only works with certain versions of tensorflow! (< 2.8?)\n",
    ")"
   ]
  },
  {
   "cell_type": "code",
   "execution_count": 1,
   "metadata": {},
   "outputs": [
    {
     "ename": "NameError",
     "evalue": "name 'region' is not defined",
     "output_type": "error",
     "traceback": [
      "\u001b[0;31m---------------------------------------------------------------------------\u001b[0m",
      "\u001b[0;31mNameError\u001b[0m                                 Traceback (most recent call last)",
      "Input \u001b[0;32mIn [1]\u001b[0m, in \u001b[0;36m<module>\u001b[0;34m\u001b[0m\n\u001b[0;32m----> 1\u001b[0m \u001b[38;5;28mprint\u001b[39m(\u001b[38;5;124m'\u001b[39m\u001b[38;5;124mReview Endpoint: https://console.aws.amazon.com/sagemaker/home?region=\u001b[39m\u001b[38;5;132;01m{}\u001b[39;00m\u001b[38;5;124m#/endpoints/\u001b[39m\u001b[38;5;132;01m{}\u001b[39;00m\u001b[38;5;124m'\u001b[39m\u001b[38;5;241m.\u001b[39mformat(\u001b[43mregion\u001b[49m, endpoint_name))\n",
      "\u001b[0;31mNameError\u001b[0m: name 'region' is not defined"
     ]
    }
   ],
   "source": [
    "print('Review Endpoint: https://console.aws.amazon.com/sagemaker/home?region={}#/endpoints/{}'.format(region, endpoint_name))"
   ]
  },
  {
   "cell_type": "markdown",
   "metadata": {},
   "source": [
    "####\n",
    "#### **TESTING ON UNSEEN DATA**"
   ]
  },
  {
   "cell_type": "code",
   "execution_count": 985,
   "metadata": {},
   "outputs": [],
   "source": [
    "from sagemaker.predictor import Predictor\n",
    "from sagemaker.serializers import CSVSerializer,JSONSerializer,JSONLinesSerializer\n",
    "from sagemaker.deserializers import JSONDeserializer,JSONLinesDeserializer\n",
    "\n",
    "class CSVPredictor(Predictor):\n",
    "    def __init__(self, endpoint_name, sess):\n",
    "        super().__init__(endpoint_name,\n",
    "                         sagemaker_session=sess,\n",
    "                         serializer=CSVSerializer(),\n",
    "                         deserializer=JSONDeserializer())"
   ]
  },
  {
   "cell_type": "code",
   "execution_count": 987,
   "metadata": {},
   "outputs": [],
   "source": [
    "predictor = CSVPredictor(endpoint_name, sess)"
   ]
  },
  {
   "cell_type": "code",
   "execution_count": 1010,
   "metadata": {},
   "outputs": [
    {
     "data": {
      "text/plain": [
       "array([['diameter', 'weight', 'red', 'green', 'blue', 'is_orange'],\n",
       "       ['0.706449222', '0.721602289', '0.636363636', '0.270588235',\n",
       "        '0.0', '0'],\n",
       "       ['0.4306894', '0.402174535', '0.532467532', '0.764705882',\n",
       "        '0.018518519', '1'],\n",
       "       ...,\n",
       "       ['0.563380282', '0.548555079', '0.350649351', '0.447058824',\n",
       "        '0.407407407', '0'],\n",
       "       ['0.740548554', '0.76211731', '0.467532468', '0.305882353', '0.0',\n",
       "        '0'],\n",
       "       ['0.440326168', '0.413962804', '0.376623377', '0.364705882',\n",
       "        '0.0', '1']], dtype=object)"
      ]
     },
     "execution_count": 1010,
     "metadata": {},
     "output_type": "execute_result"
    }
   ],
   "source": [
    "inputs = pd.read_csv('./data/processed/csv/train/train.csv',header=None).reset_index().iloc[:,1:].to_numpy()\n",
    "inputs"
   ]
  },
  {
   "cell_type": "code",
   "execution_count": 1011,
   "metadata": {
    "tags": []
   },
   "outputs": [],
   "source": [
    "predicted_classes = predictor.predict(inputs)"
   ]
  },
  {
   "cell_type": "code",
   "execution_count": 1012,
   "metadata": {
    "tags": []
   },
   "outputs": [
    {
     "data": {
      "text/plain": [
       "9000"
      ]
     },
     "execution_count": 1012,
     "metadata": {},
     "output_type": "execute_result"
    }
   ],
   "source": [
    "len(predicted_classes['predictions'])"
   ]
  },
  {
   "cell_type": "code",
   "execution_count": 1013,
   "metadata": {},
   "outputs": [
    {
     "name": "stdout",
     "output_type": "stream",
     "text": [
      "Predicted class 0 with probability 0.77231\n",
      "Predicted class 1 with probability 0.87854\n",
      "Predicted class 0 with probability 0.7676\n",
      "Predicted class 1 with probability 0.97754\n",
      "Predicted class 0 with probability 0.27352\n",
      "Predicted class 1 with probability 0.89085\n",
      "Predicted class 0 with probability 0.55122\n",
      "Predicted class 1 with probability 0.40978\n",
      "Predicted class 1 with probability 0.63215\n",
      "Predicted class 0 with probability 0.01899\n"
     ]
    }
   ],
   "source": [
    "for predicted_class in predicted_classes['predictions'][:10]:\n",
    "    print(\"Predicted class {} with probability {}\".format(int(np.round(predicted_class[0])),np.round(2*np.abs(0.5-predicted_class[0]),5), ))"
   ]
  },
  {
   "cell_type": "code",
   "execution_count": 1014,
   "metadata": {},
   "outputs": [],
   "source": [
    "preds = [np.round(v[0]) for v in predicted_classes['predictions']]\n",
    "\n",
    "ground_truth = pd.read_csv('./data/processed/csv/train/train.csv')\n",
    "preds = pd.concat([ground_truth,pd.DataFrame(preds,columns=['pred'])],axis=1)"
   ]
  },
  {
   "cell_type": "code",
   "execution_count": 1015,
   "metadata": {},
   "outputs": [
    {
     "data": {
      "text/html": [
       "<div>\n",
       "<style scoped>\n",
       "    .dataframe tbody tr th:only-of-type {\n",
       "        vertical-align: middle;\n",
       "    }\n",
       "\n",
       "    .dataframe tbody tr th {\n",
       "        vertical-align: top;\n",
       "    }\n",
       "\n",
       "    .dataframe thead th {\n",
       "        text-align: right;\n",
       "    }\n",
       "</style>\n",
       "<table border=\"1\" class=\"dataframe\">\n",
       "  <thead>\n",
       "    <tr style=\"text-align: right;\">\n",
       "      <th></th>\n",
       "      <th>diameter</th>\n",
       "      <th>weight</th>\n",
       "      <th>red</th>\n",
       "      <th>green</th>\n",
       "      <th>blue</th>\n",
       "      <th>is_orange</th>\n",
       "      <th>pred</th>\n",
       "    </tr>\n",
       "  </thead>\n",
       "  <tbody>\n",
       "    <tr>\n",
       "      <th>0</th>\n",
       "      <td>0.706449</td>\n",
       "      <td>0.721602</td>\n",
       "      <td>0.636364</td>\n",
       "      <td>0.270588</td>\n",
       "      <td>0.000000</td>\n",
       "      <td>0</td>\n",
       "      <td>0.0</td>\n",
       "    </tr>\n",
       "    <tr>\n",
       "      <th>1</th>\n",
       "      <td>0.430689</td>\n",
       "      <td>0.402175</td>\n",
       "      <td>0.532468</td>\n",
       "      <td>0.764706</td>\n",
       "      <td>0.018519</td>\n",
       "      <td>1</td>\n",
       "      <td>1.0</td>\n",
       "    </tr>\n",
       "    <tr>\n",
       "      <th>2</th>\n",
       "      <td>0.633062</td>\n",
       "      <td>0.637082</td>\n",
       "      <td>0.493506</td>\n",
       "      <td>0.435294</td>\n",
       "      <td>0.240741</td>\n",
       "      <td>0</td>\n",
       "      <td>0.0</td>\n",
       "    </tr>\n",
       "    <tr>\n",
       "      <th>3</th>\n",
       "      <td>0.243884</td>\n",
       "      <td>0.190844</td>\n",
       "      <td>0.636364</td>\n",
       "      <td>0.647059</td>\n",
       "      <td>0.055556</td>\n",
       "      <td>1</td>\n",
       "      <td>1.0</td>\n",
       "    </tr>\n",
       "    <tr>\n",
       "      <th>4</th>\n",
       "      <td>0.546331</td>\n",
       "      <td>0.528298</td>\n",
       "      <td>0.376623</td>\n",
       "      <td>0.400000</td>\n",
       "      <td>0.000000</td>\n",
       "      <td>0</td>\n",
       "      <td>0.0</td>\n",
       "    </tr>\n",
       "    <tr>\n",
       "      <th>...</th>\n",
       "      <td>...</td>\n",
       "      <td>...</td>\n",
       "      <td>...</td>\n",
       "      <td>...</td>\n",
       "      <td>...</td>\n",
       "      <td>...</td>\n",
       "      <td>...</td>\n",
       "    </tr>\n",
       "    <tr>\n",
       "      <th>8995</th>\n",
       "      <td>0.428466</td>\n",
       "      <td>0.399313</td>\n",
       "      <td>0.350649</td>\n",
       "      <td>0.635294</td>\n",
       "      <td>0.000000</td>\n",
       "      <td>1</td>\n",
       "      <td>1.0</td>\n",
       "    </tr>\n",
       "    <tr>\n",
       "      <th>8996</th>\n",
       "      <td>0.512973</td>\n",
       "      <td>0.500715</td>\n",
       "      <td>0.441558</td>\n",
       "      <td>0.717647</td>\n",
       "      <td>0.222222</td>\n",
       "      <td>1</td>\n",
       "      <td>1.0</td>\n",
       "    </tr>\n",
       "    <tr>\n",
       "      <th>8997</th>\n",
       "      <td>0.563380</td>\n",
       "      <td>0.548555</td>\n",
       "      <td>0.350649</td>\n",
       "      <td>0.447059</td>\n",
       "      <td>0.407407</td>\n",
       "      <td>0</td>\n",
       "      <td>0.0</td>\n",
       "    </tr>\n",
       "    <tr>\n",
       "      <th>8998</th>\n",
       "      <td>0.740549</td>\n",
       "      <td>0.762117</td>\n",
       "      <td>0.467532</td>\n",
       "      <td>0.305882</td>\n",
       "      <td>0.000000</td>\n",
       "      <td>0</td>\n",
       "      <td>0.0</td>\n",
       "    </tr>\n",
       "    <tr>\n",
       "      <th>8999</th>\n",
       "      <td>0.440326</td>\n",
       "      <td>0.413963</td>\n",
       "      <td>0.376623</td>\n",
       "      <td>0.364706</td>\n",
       "      <td>0.000000</td>\n",
       "      <td>1</td>\n",
       "      <td>1.0</td>\n",
       "    </tr>\n",
       "  </tbody>\n",
       "</table>\n",
       "<p>9000 rows × 7 columns</p>\n",
       "</div>"
      ],
      "text/plain": [
       "      diameter    weight       red     green      blue  is_orange  pred\n",
       "0     0.706449  0.721602  0.636364  0.270588  0.000000          0   0.0\n",
       "1     0.430689  0.402175  0.532468  0.764706  0.018519          1   1.0\n",
       "2     0.633062  0.637082  0.493506  0.435294  0.240741          0   0.0\n",
       "3     0.243884  0.190844  0.636364  0.647059  0.055556          1   1.0\n",
       "4     0.546331  0.528298  0.376623  0.400000  0.000000          0   0.0\n",
       "...        ...       ...       ...       ...       ...        ...   ...\n",
       "8995  0.428466  0.399313  0.350649  0.635294  0.000000          1   1.0\n",
       "8996  0.512973  0.500715  0.441558  0.717647  0.222222          1   1.0\n",
       "8997  0.563380  0.548555  0.350649  0.447059  0.407407          0   0.0\n",
       "8998  0.740549  0.762117  0.467532  0.305882  0.000000          0   0.0\n",
       "8999  0.440326  0.413963  0.376623  0.364706  0.000000          1   1.0\n",
       "\n",
       "[9000 rows x 7 columns]"
      ]
     },
     "execution_count": 1015,
     "metadata": {},
     "output_type": "execute_result"
    }
   ],
   "source": [
    "preds"
   ]
  },
  {
   "cell_type": "code",
   "execution_count": 1016,
   "metadata": {},
   "outputs": [
    {
     "data": {
      "text/plain": [
       "Text(0.5, 1.0, 'Confusion Matrix')"
      ]
     },
     "execution_count": 1016,
     "metadata": {},
     "output_type": "execute_result"
    },
    {
     "data": {
      "image/png": "[encoded data removed]",
      "text/plain": [
       "<Figure size 432x288 with 2 Axes>"
      ]
     },
     "metadata": {
      "image/png": {
       "height": 277,
       "width": 362
      },
      "needs_background": "light"
     },
     "output_type": "display_data"
    }
   ],
   "source": [
    "confusion_matrix = pd.crosstab(\n",
    "    preds['is_orange'],\n",
    "    preds['pred'],\n",
    "    rownames=['Actuals'],\n",
    "    colnames=['Predictions'],\n",
    "    normalize='index',\n",
    ")\n",
    "sns.heatmap(confusion_matrix, annot = True, fmt = '.8f', cmap = 'YlGnBu').set_title('Confusion Matrix')"
   ]
  },
  {
   "cell_type": "code",
   "execution_count": 1017,
   "metadata": {},
   "outputs": [
    {
     "name": "stderr",
     "output_type": "stream",
     "text": [
      "WARNING:sagemaker.deprecations:The endpoint attribute has been renamed in sagemaker>=2.\n",
      "See: https://sagemaker.readthedocs.io/en/stable/v2.html for details.\n"
     ]
    }
   ],
   "source": [
    "sess.delete_endpoint(predictor.endpoint_name) #.endpoint)"
   ]
  }
 ],
 "metadata": {
  "instance_type": "ml.t3.medium",
  "kernelspec": {
   "display_name": "Python 3.9 tf1",
   "language": "python",
   "name": "tensorflow"
  },
  "language_info": {
   "codemirror_mode": {
    "name": "ipython",
    "version": 3
   },
   "file_extension": ".py",
   "mimetype": "text/x-python",
   "name": "python",
   "nbconvert_exporter": "python",
   "pygments_lexer": "ipython3",
   "version": "3.9.9"
  }
 },
 "nbformat": 4,
 "nbformat_minor": 4
}
